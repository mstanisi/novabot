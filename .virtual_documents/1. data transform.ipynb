pip install dataloader --quiet


import sys
print(sys.prefix)


import numpy as np
print(np.__version__)


import re
import textwrap
import dataloader as dataloader


path = "/Users/markos98/Programming/novabot/data/"


with open(path + 'lunch.txt', 'r') as f:
    lunch = f.read() 
    
with open(path + 'nova.txt', 'r') as f:
    nova = f.read()

with open(path + 'ticket.txt', 'r') as f:
    ticket = f.read() 

with open(path + 'soft.txt', 'r') as f:
    soft = f.read() 

with open(path + 'zone.txt', 'r') as f:
    zone = f.read() 


soft2 = set(soft.lower().split())
ticket2 = set(ticket.lower().split())
nova2 = set(nova.lower().split())
lunch2 = set(lunch.lower().split())
zone2 = set(zone.lower().split())

intersection1 = lunch2 & soft2
intersection2 = lunch2 & nova2
intersection3 = lunch2 & zone2
intersection4 = lunch2 & ticket2
intersection5 = soft2 & nova2
intersection6 = soft2 & zone2
intersection7 = soft2 & ticket2
intersection8 = nova2 & ticket2
intersection9 = nova2 & zone2
intersection10 = zone2 & ticket2

cutups1 = intersection1.union(intersection2, intersection3, intersection4, intersection5)
cutups2 = intersection6.union(intersection7, intersection8, intersection9, intersection10)
hoard = cutups1.union(cutups2)


hoard = list(hoard)
hoard = [x for x in hoard if not (x.isdigit() 
        or x[0] == '-' and x[1:].isdigit())]
chars_to_remove = [".",",","?","!",":","(",")"]
hoard = ["".join(ch for ch in string if ch not in chars_to_remove) for string in hoard]
hoard = [x for x in hoard if len(x) > 1]
hoard = [item.strip('"') for item in hoard]
hoard = [s for s in hoard if not s.startswith("-")]
hoard = [s for s in hoard if not s.endswith("-")]


print(hoard)


with open(r'hoard.txt', 'w') as fp:
    for item in hoard:
        fp.write("%s\n" % item)
    print('Done')


with open("hoard.txt", "r") as f:
    word_list = [line.strip() for line in f if line.strip()]


naked_lunch = lunch.lower()
with open(r'naked_lunch.txt', 'w') as fp:
    fp.write(naked_lunch)
print('Done')
