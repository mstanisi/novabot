{
 "cells": [
  {
   "cell_type": "code",
   "execution_count": 2,
   "id": "cdaf31d4-55d9-4e0f-8de5-9a1e04fa80c7",
   "metadata": {},
   "outputs": [
    {
     "name": "stdout",
     "output_type": "stream",
     "text": [
      "Collecting dataloader\n",
      "  Downloading dataloader-2.0.tar.gz (9.1 kB)\n",
      "  Preparing metadata (setup.py) ... \u001b[?25ldone\n",
      "\u001b[?25hBuilding wheels for collected packages: dataloader\n",
      "  Building wheel for dataloader (setup.py) ... \u001b[?25ldone\n",
      "\u001b[?25h  Created wheel for dataloader: filename=dataloader-2.0-py3-none-any.whl size=10084 sha256=bd2b57a441a113359537c644c8f18ae7c33a78f943f0d9edc5f9e01c412a7a4e\n",
      "  Stored in directory: /Users/markos98/Library/Caches/pip/wheels/fa/17/c3/e258aa863dd515a9b5759c01f4af55b2a2ea0881b2778fc749\n",
      "Successfully built dataloader\n",
      "Installing collected packages: dataloader\n",
      "Successfully installed dataloader-2.0\n",
      "Note: you may need to restart the kernel to use updated packages.\n"
     ]
    }
   ],
   "source": [
    "pip install dataloader"
   ]
  },
  {
   "cell_type": "code",
   "execution_count": 1,
   "id": "90d44a5a-1de9-47aa-995e-74124f38c9be",
   "metadata": {},
   "outputs": [
    {
     "name": "stdout",
     "output_type": "stream",
     "text": [
      "/Volumes/Mac/opt/anaconda3/envs/novabot\n"
     ]
    }
   ],
   "source": [
    "import sys\n",
    "print(sys.prefix)"
   ]
  },
  {
   "cell_type": "code",
   "execution_count": 2,
   "id": "0c2bdc6d-daa4-4eca-9667-4e716188a7b9",
   "metadata": {},
   "outputs": [
    {
     "name": "stdout",
     "output_type": "stream",
     "text": [
      "2.0.2\n"
     ]
    }
   ],
   "source": [
    "import numpy as np\n",
    "print(np.__version__)"
   ]
  },
  {
   "cell_type": "code",
   "execution_count": 4,
   "id": "ec85d993-ba29-4152-9586-f473a7020aa8",
   "metadata": {},
   "outputs": [
    {
     "ename": "ImportError",
     "evalue": "cannot import name 'read_data_sets' from partially initialized module 'dataloader' (most likely due to a circular import) (/Volumes/Mac/opt/anaconda3/envs/novabot/lib/python3.12/site-packages/dataloader/__init__.py)",
     "output_type": "error",
     "traceback": [
      "\u001b[0;31m---------------------------------------------------------------------------\u001b[0m",
      "\u001b[0;31mImportError\u001b[0m                               Traceback (most recent call last)",
      "Cell \u001b[0;32mIn[4], line 3\u001b[0m\n\u001b[1;32m      1\u001b[0m \u001b[38;5;28;01mimport\u001b[39;00m \u001b[38;5;21;01mre\u001b[39;00m\n\u001b[1;32m      2\u001b[0m \u001b[38;5;28;01mimport\u001b[39;00m \u001b[38;5;21;01mtextwrap\u001b[39;00m\n\u001b[0;32m----> 3\u001b[0m \u001b[38;5;28;01mfrom\u001b[39;00m \u001b[38;5;21;01mdataloader\u001b[39;00m \u001b[38;5;28;01mimport\u001b[39;00m read_data_sets\n",
      "File \u001b[0;32m/Volumes/Mac/opt/anaconda3/envs/novabot/lib/python3.12/site-packages/dataloader/__init__.py:1\u001b[0m\n\u001b[0;32m----> 1\u001b[0m \u001b[38;5;28;01mfrom\u001b[39;00m \u001b[38;5;21;01mdataloader\u001b[39;00m \u001b[38;5;28;01mimport\u001b[39;00m read_data_sets\n",
      "\u001b[0;31mImportError\u001b[0m: cannot import name 'read_data_sets' from partially initialized module 'dataloader' (most likely due to a circular import) (/Volumes/Mac/opt/anaconda3/envs/novabot/lib/python3.12/site-packages/dataloader/__init__.py)"
     ]
    }
   ],
   "source": [
    "import re\n",
    "import textwrap\n",
    "import dataloader as dataloader"
   ]
  },
  {
   "cell_type": "code",
   "execution_count": 6,
   "id": "31d41edb-ab85-4641-a036-c79a174a2ffe",
   "metadata": {},
   "outputs": [],
   "source": [
    "path = \"/Users/markos98/Programming/novabot/data/\""
   ]
  },
  {
   "cell_type": "code",
   "execution_count": 7,
   "id": "a86791e8-0b03-4ea7-aed1-e9fac6a2fed0",
   "metadata": {
    "scrolled": true
   },
   "outputs": [],
   "source": [
    "with open(path + 'lunch.txt', 'r') as f:\n",
    "    lunch = f.read() \n",
    "    \n",
    "with open(path + 'nova.txt', 'r') as f:\n",
    "    nova = f.read()\n",
    "\n",
    "with open(path + 'ticket.txt', 'r') as f:\n",
    "    ticket = f.read() \n",
    "\n",
    "with open(path + 'soft.txt', 'r') as f:\n",
    "    soft = f.read() \n",
    "\n",
    "with open(path + 'zone.txt', 'r') as f:\n",
    "    zone = f.read() "
   ]
  },
  {
   "cell_type": "code",
   "execution_count": 13,
   "id": "23d68150-8ce1-4f98-b05c-0234bd36cd7f",
   "metadata": {
    "scrolled": true
   },
   "outputs": [],
   "source": [
    "soft2 = set(soft.lower().split())\n",
    "ticket2 = set(ticket.lower().split())\n",
    "nova2 = set(nova.lower().split())\n",
    "lunch2 = set(lunch.lower().split())\n",
    "zone2 = set(zone.lower().split())\n",
    "\n",
    "intersection1 = lunch2 & soft2\n",
    "intersection2 = lunch2 & nova2\n",
    "intersection3 = lunch2 & zone2\n",
    "intersection4 = lunch2 & ticket2\n",
    "intersection5 = soft2 & nova2\n",
    "intersection6 = soft2 & zone2\n",
    "intersection7 = soft2 & ticket2\n",
    "intersection8 = nova2 & ticket2\n",
    "intersection9 = nova2 & zone2\n",
    "intersection10 = zone2 & ticket2\n",
    "\n",
    "cutups1 = intersection1.union(intersection2, intersection3, intersection4, intersection5)\n",
    "cutups2 = intersection6.union(intersection7, intersection8, intersection9, intersection10)\n",
    "hoard = cutups1.union(cutups2)"
   ]
  },
  {
   "cell_type": "code",
   "execution_count": 9,
   "id": "b0e7a4cd-b84d-4510-83d8-c9ce3d1dbb68",
   "metadata": {
    "scrolled": true
   },
   "outputs": [],
   "source": [
    "hoard = list(hoard)\n",
    "hoard = [x for x in hoard if not (x.isdigit() \n",
    "        or x[0] == '-' and x[1:].isdigit())]\n",
    "chars_to_remove = [\".\",\",\",\"?\",\"!\",\":\",\"(\",\")\"]\n",
    "hoard = [\"\".join(ch for ch in string if ch not in chars_to_remove) for string in hoard]\n",
    "hoard = [x for x in hoard if len(x) > 1]\n",
    "hoard = [item.strip('\"') for item in hoard]\n",
    "hoard = [s for s in hoard if not s.startswith(\"-\")]\n",
    "hoard = [s for s in hoard if not s.endswith(\"-\")]"
   ]
  },
  {
   "cell_type": "code",
   "execution_count": 14,
   "id": "59693a36-8344-4778-814f-d606dfd6287f",
   "metadata": {
    "scrolled": true
   },
   "outputs": [
    {
     "name": "stdout",
     "output_type": "stream",
     "text": [
      "{'isolate', 'ectoplasm,', 'percentage', 'logical', 'throat,', \"'s\", 'expressed', 'tribes', 'shattering', 'gills', 'all-powerful', 'projected', 'dead,', 'shrugged:', 'wondering', 'lips,', 'know?', 'terminals', 'fence.', 'magnifying', 'flesh,', 'menacing', 'sniffing.', 'racks', 'reactions', 'fireplace,', 'kick', 'fold', '\"no.', 'officer', 'recruited', 'usefully', 'fifteen', 'lurking', 'clean', '\"man,', 'queens', 'act,', 'pupils', 'lungs.', '\"give', 'perfectly', 'disintegrate', 'guard.', 'month', 'dankmoor', 'pool', 'position', 'few', 'spoon', 'generally', 'obscene,', 'suspicion', 'rims', 'kid?', 'glaze', 'key', 'special,', 'blocks,', 'cunts,', 'length.', 'necessary,', 'studio.', 'know,\"', 'vistas,', 'calendar', 'canines', 'bandanna', 'escape', 'us.', 'thirst', '\"yes,', 'tissue,', 'invades', 'girl,', 'afflicted', 'formulas', 'shutting', 'horseback', 'noose', 'her,', 'saves', 'dissolved.', 'toward', 'venture', 'gardens', 'splintered', 'danny', 'elders', 'colonel', 'talking.', 'down,', 'country', 'warning', 'varied', 'exposed', '1929.', 'hennaed', 'sleeve', 'water.', 'solution', 'pieces.', 'still', 'cheers', 'neon.', \"'em\", 'penis.', 'bamboo', 'tower.', 'di', 'billowing', 'feeding', 'barely', 'dual', 'washroom', \"butcher'\", 'produced', '.', 'accumulators', 'sheds', 'meted', 'walls.', 'streaks.', 'other:', 'cream,', 'immediately', 'mugwump', 'twenty', 'road.', 'chemical', 'formulae', 'west', 'merge', 'unsuccessful', 'globes', 'schoolboy', 'wait', 'pensively', 'cleft', 'curtains', 'struck', 'birth', 'shown', 'gilt', 'jackal', 'flick', 'lover?\"', \"rube's\", 'waiter,', 'supervisor', 'ma', 'alleged', 'artist', 'obsidian', 'shatter', 'darkness', 'acid.', 'mutual', 'rope', '..', 'shit,', 'sugar', 'shuddering', 'ordinary', 'ought', 'permitted', 'sapphires', 'preserved', 'clients', 'finder', 'flickering', 'nod.', 'old', 'fix.', 'long', 'ectoplasmic', 'my', 'bask', 'recorders', 'yo', 'drawn', 'intervention', 'transitional', '26', \"mother's\", 'reluctant', 'synchronize', 'clearing', 'picking', 'shack', 'juices', 'average', 'plaintiff', 'man-\"', 'bulb,', 'sell', 'whereas', 'hell.', 'inches', 'easy', 'jeers', 'it.\"', 'o', 'purple.', 'derived', 'resinous', 'yell', 'jockstrap', '99', 'son', 'dawn,', 'stomach,', 'invasion', 'glistening', 'broke', '$', 'stubs', 'lining', 'sensible', 'fine', \"'so\", 'regions', 'says.', 'wind.', 'brain', 'alcoholic', 'spurious', 'smiling.', 'missed', '\"difficult', 'atomic', 'tasty.', 'baby', 'stopping', 'hoodlum', 'husk', 'cell', 'records', 'charged', 'cornhole', 'barbecue', '\"better', 'women.', 'bartender,', 'added', 'commit', 'moss', 'evolve', 'witnessed', 'flag', 'baths.', 'corridor', 'meal,', 'hemp', 'newspapers', 'horror', 'citizens', 'rule', 'meaning', 'echo', 'puffs', 'conception', 'specific', 'join', 'genital', 'rough', 'lip', 'address.', 'rises', 'of', 'feeds', 'heat.', 'parasite', 'plugged', 'jaguar', 'testing', 'sale', \"i've\", 'stretching', 'case', 'metropole', 'paregoric', 'occupied', 'orgasm,', 'fade-out', 'efficient', 'warehouse', 'scorpion', 'shorts.', 'falls', 'lips.', 'lady.', 'waving', 'reserved', 'intestinal', 'biting', 'vampires', 'forming', 'kiki', 'vending', 'eternal', 'sweating', '\"sure,', 'now.', 'controllers', 'plane', 'associations', 'offices', 'elevated', 'young,', 'reference', 'spirals', 'transcribing', 'fart', 'enter', 'boy.', 'hell', 'lower', 'spattered', 'spent', 'her.', 'screamed.', 'mirror', 'prehensile', 'mind.', 'paris,', 'kneeling', 'physical', 'ultimate', 'hours.', 'houses', 'lamprey.', 'used', 'passing', 'peccary', 'electron', 'arson', 'riders', 'cafeterias', 'shot', 'shot.', 'heard.', 'ponds', 'novelist', 'contact?', 'snarled', 'castrate', 'lest', 'cyanide', 'choose', 'snatches', 'bathroom.', 'screams', 'porch', 'asking', 'hangings', 'occurs', 'forgotten', '1890', 'kids', 'dusted', 'deeply', 'wood', \"aren't\", 'references', 'scratching', 'guilty', 'temples', 'skins', 'eggs.', 'streaming', 'beams', 'reason', 'loosely', '\"sammy', 'resulting', 'leprosy', 'perfect', 'lifting', 'constipated', 'unusually', 'hoisted', 'act.', 'reveal', 'marines', '\"right', 'four-inch', 'rubble,', 'barefoot', 'before,', 'heaven', 'nerves', 'appendectomy', 'able', '\"here', 'since', 'tracks,', 'gambling', 'freezes', 'afford', 'procedure', 'america', 'stones.', 'posed', 'tea.', 'people', 'expression', 'years:', 'groans', 'talked', 'permit', 'recall', 'resplendent', 'finding', '\"of', 'stomachs.', 'yonder', 'plans', 'phone.', 'brays', 'coke', 'brushing', 'runs', 'villa', 'proffer', 'savage', 'preposterous', 'travels', 'vein.', 'burglar', 'not', 'class', 'hiroshima', 'pencils', 'rebuilt', 'motor', 'fragile', 'form', 'robe', 'dissolves', 'spike', 'theory', 'job,', 'buyer', 'rooms,', 'identical', 'molecular', 'electricals', 'geese', 'months', 'recovery', 'erotic', 'substituting', 'around', 'snapping', 'allergic', 'shadow:', 'wedding', 'subject', 'boy-girls', 'hollow', 'darkness.', 'silk.', 'residence', 'challenge', 'managed', 'pissing', 'feet.', 'rectal', '\"can', 'pushed', 'closes', 'conspicuous', 'bill', 'too.', 'pusher', 'less.', 'pounded', 'surgery', 'defense', 'strength', 'vicieux', 'caid', 'spring,', 'heroin.', 'faces,', 'oil', \"children's\", 'words,', 'sight', 'embalmed', 'shortage', 'tangier,', 'skinned', 'lads', 'identity', 'intestine', 'stars', 'concept', 'bother', 'off!', 'ideas', 'phone', 'sigh', 'sleeping', 'reach', 'surrounding', 'compact', 'wanting', 'mahogany,', '\"need', 'friendly', 'swindle', 'spiral', 'win', 'proliferating', 'floors', 'balance', 'freight', 'geiger', 'proprietress', 'mouths', 'states', 'indeterminate', 'signals', 'notice.', 'relics', '73', '100', 'comic', 'method,', 'posture', 'enters', 'became', 'leading', 'shriek', 'lantern', 'skyline', 'unsteady', 'tu', 'planet,', 'martin,', 'crooned', 'knocks', 'liked', 'active', 'years', 'searing', 'cancel', 'glittering', 'on,', 'suffered', 'masturbates', '“the', 'scar', 'flak.', 'rather', 'arrows', \"you'll\", 'needed', 'someplace', 'wake', 'holster.', 'person,', 'introduce', 'poised', 'mirrors', 'final', 'repeat', 'tarot', 'hope', 'blank', 'freezed', 'stupidity', 'stamp', 'scripts', 'nigger', 'bury', 'unique', 'knees.', 'him,\"', 'percent', 'dissolving', ':', '\"i\\'ll', 'production', 'juice', 'fishing', 'allowed', 'sets', 'connections.', 'passers-by', 'figures', 'molds', 'lips', 'cotton.', 'faster', 'clutch', 'currents', 'loss', 'saw,', 'leans', 'shivers', 'galaxies', 'shoves', 'stock', 'looked', 'unnerving', 'quicksilver', 'stampeding', 'suburbs', 'market', 'winter,', 'guerrilla', 'by', 'cemetery', 'brad,', 'hassan,', 'protection', 'hunka', 'creator', 'unqualified', 'allow', 'broadcast', 'intensity', 'place.', 'hammer', 'appalled', 'mouth.', 'urinals', 'sweeps', 'scene', 'flashing', 'suite', 'sidewalks', 'credit', 'sneak', 'ghostly', 'labyrinth', 'knowledge,\"', 'students', 'saliva', \"i'm\", '\"look,', 'cypress', 'anonymous', 'adroit', 'unbuttoned', 'goldfish', 'crudely', 'arms,', 'yet.', 'gusts', 'bureaucrat', 'wheeling', 'association', 'sinking', 'course,', 'lose', 'lengths', 'dia', 'lined', 'infiltrate', 'nor', 'you,\"', 'question.', 'marl', 'lazarus', 'period.', 'plain', 'afternoons', 'probes', 'bites', 'grotesque', 'costume', 'blanket.', 'myself', 'neck,', 'mentioned', 'pavement', 'smokes', 'chase', 'usually', 'deviants', 'model', 'shadows', 'floor,', 'bloodshot', 'whilst', 'fiction', \"land's\", 'overcoat', 'here?\"', 'vices', 'purposes,', 'condemned', 'flesh.\"', 'hot', 'preferences', 'johnny,', 'necessary', 'cold,', 'investigator', 'blending', 'pawing', 'litter', 'bright', 'talker', 'exposing', 'impossible,', 'peep', 'replaced', 'promise', 'souvenir', 'primarily', 'munching', 'got', 'piss', 'whine.', 'cut', 'opponents', 'third', 'hick?', 'white-hot', 'sighed', 'suggested', 'corpse', 'soo', 'serpent', 'more.\"', 'guy.', 'stainless', 'sunlight.', 'image', 'panhandle', 'faraway', 'blond', 'bridges,', 'sensation', 'heap', 'corner,', 'veins.', 'operator', 'planes', 'drummer', 'nourishes', 'collapses', 'moslem', 'safest', 'fellows', 'true', 'searched', 'inevitable', 'remember', 'doing,', 'addicts:', 'brothers,', '89', 'dazzling', 'grasshopper', 'keif', 'ten', 'quick,', 'memory', 'convolutions', 'areas', 'leapt', 'towers', 'convict', 'filtering', 'satisfied', 'occupational', 'lick,', 'chess', 'obvious:', 'wrenching', 'shops', 'betray', 'attacked', 'doorway', 'pursued', 'swift', '\"strange', 'good.', 'toilets,', 'quote', 'experience.', 'pearly', 'tarnished', 'kicks', 'rise', '.)', '3', 'reaches', 'entered', 'forehead.', 'anything,', 'contain', 'ali', 'wants', 'boy,', 'product.', '\"come,', 'fuzz', '\"call', 'alcoholics', 'peasant', 'attendants', 'fuzz.', \"they's\", 'yet?\"', \"martin's\", 'track.', 'city.', 'festering', 'addiction.', 'first-class', 'morning.', 'pitch', 'fixing', 'member.', 'cruised', 'direct', 'inexorably', 'jetting', 'says', 'so?\"', 'louder', 'particular', 'femoral', 'beak', 'pissed', 'presents', 'landing', 'grill', 'dash', 'urgent', 'forefinger', 'what,', 'swoop', 'vaudeville', 'besides,', 'eventually', '17', 'weeks', 'halitosis', 'map', 'snarls', 'inside,', 'boat', 'weeks,', 'nerve', 'rewrite', \"'do\", 'scarcely', 'versus', 'cannon', 'reflecting', 'lunatics', 'even', 'turtleneck', 'asshole.', 'giant', 'filed', 'salt', 'adiós', 'cocktail', 'liquid', '\"human', 'words.', 'spanish', 'correct', 'gyrations,', 'virus.', 'tightening', 'assault', 'cat', 'rampant', 'et', 'martini', 'russian', 'bicarbonate', 'gone', 'legs.', 'sleeve.', 'eastern', 'half-out', 'owing', 'beneath', 'area,', 'accident,', 'automat', 'stirrings', 'cells,', 'discomfort', 'archers', 'shutters', 'tangier.', 'cuban', 'orchids', 'imitation', 'passes', 'juan', 'population', 'processes.', 'islam', 'innaresting', 'switching', 'pulsing', 'knocking', 'friends', 'une', 'meal', 'calculated', 'benway', '13', 'pigeon', 'traces', 'warehouses,', \"queen's\", 'out:', 'nose', 'game.', 'disquieting', 'pages', 'dressed', 'yves', 'bad,', 'prisoners', 'recordings', 'advantage,', 'reeled', 'symptom', 'plunger', 'might', 'stool', 'boom', 'screams.', 'nuggets.', 'ejects', 'worse', 'petal', 'ceremonial', 'gallows.', 'bluff', 'wilhelm', 'ray', 'starting', 'cruising', 'peddle', 'stirring', 'responsibility', 'previous', 'break,', 'streamers', 'boys.', 'again,\"', 'drowned', 'essential', 'happened.', 'lawyers', 'buck', 'purged', 'weimar', 'wastebasket.', 'power', 'fatal', '(they', 'erection', '`good', 'customers', 'trade', 'wings.', '\"hello', 'follows', 'timeless', 'abbreviated', 'opened', 'weightless', 'system,', 'drives', 'lewdly', 'disturb', 'town', 'you\"', 'contract', '(admittedly', 'gesture', 'followed', 'aspect', 'lay', '\"get', 'redirected', 'absorption', 'lashed', 'carnival.', 'relax', 'balconies', 'capsules', 'gathering', 'globs', 'polite', 'uniform', 'nutmeg', 'projection', 'script.', 'colony', \"here.'\", 'bill,\"', 'excellent', 'himself,', 'marv,', 'prostate', 'relapsing', 'thin', 'analyst.', 'bomb', 'mother', 'clinic', 'channeled', 'weigh', 'bursting', 'souped-up', 'transistor', 'cameras', 'louis.', \"pig's\", 'merging', 'mile', 'reminds', 'set', 'night', '\"gentlemen,', 'bums', 'palms', 'column', 'failure', 'sad', 'dirty', 'molded', 'calm', 'sharper', 'terrace', 'dr.', 'worm', 'governor', 'rust,', 'ozone.', 'chimborazo,', '(always', 'larcenous', 'motel', 'fossil', 'presumably', 'established', 'meatball', 'ankles,', 'gio', '-then', 'line.', 'friend,', 'art', 'in?\"', 'drive', 'taste,', 'went.', 'dime', 'set,', 'you,', 'gash,', 'intimidated', 'piecing', 'specialized', 'then', 'relation', 'reverently', 'combat', 'mary', 'switchboard', 'accent.', 'slivers', '\"see', 'cerebral', 'flew', 'reduce', 'accurate', 'slime.', 'lets', 'halitosis.', 'ambush.', 'looking', 'thieves', 'clutching', '82', 'authority.', 'practice', 'inspection', 'dishes.', 'show', 'october', 'sensory', 'thunder', 'hatching', 'huts.', 'nimun', 'hill.', 'returned', 'bloody', 'cockney', 'cities.', 'load', 'dust,', '9', 'hush', 'again,', 'tooth', 'protoplasmic', 'responsible', 'bringing', 'screw', 'whistle,', 'audience,', 'upper', 'o.', 'factors.', 'sisters', 'logos', 'said:', 'shining', 'change', 'queen', 'rhythm', 'in:', 'stung', 'consists', 'initial', 'appendix', 'asked.', '4,', 'clapped', 'parties', 'reservation', 'arrival', 'illegal', 'popped', 'hear:', 'assholes', 'me', 'methods', 'humiliation', 'force', 'anxiety', 'do?', 'cracks.', 'soap,', 'weary', 'cold.', 'defined', 'sexless', 'deck', 'metal', 'trains', 'sharp', 'flush', 'apart', 'following', 'deactivate', 'perros', 'locked', 'twinges', 'secondhand', 'habits', 'canceled', 'near', 'heat', 'measure', 'new', 'lushed', 'course.\"', 'unbluffed', 'sinus', 'mecca', 'horses', 'martyr', 'reflection', 'repellent,', 'distributed', 'habitual', 'k.', 'pigs', 'antibiotic', 'round', 'circumstances', 'postcard', 'stretch', 'clubs', 'bait', 'mexican.', 'crust', 'dripping', 'corner.', 'daily', 'often', 'threedimensional', 'shrink', 'only,', '–', 'charted', 'd.s.', 'bound', 'unbutton', 'courts', 'colonial', 'gods', 'north', 'controls', 'mexico.', 'roy', 'intestines,', 'pills', 'canoe', 'goo', 'possible', 'sheriff', 'melted', \"dog's\", 'aguardiente', 'lived', 'removed', 'al', 'holds', 'straightened', 't', 'indecent', 'sam', 'receive', 'make', '\"yes.', 'salamanders', 'malignant', 'mineral', 'monkeys', 'earth.', 'listens', 'nail', 'pry', 'cake', 'slate', 'movie,', 'properly', 'sort', 'listen.\"', 'written', 'chauffeur', 'hurry', 'another', 'alone', 'characters', 'goods,', 'be,', 'town.', 'loincloth', 'arabs.', 'morphine.', 'izzy', 'mist', 'bench', 'phenomena', 'distaste.', 'terms.', 'camouflage', 'give', 'needless', 'post.', 'apomorphine,', 'spelling', 'dinner', 'seventy', 'swelled', 'kitchen', 'open,', 'wiper', 'sense', \"won't\", 'are?', 'case,', 'larval', 'books', 'jungle', 'unpleasant', 'foetal', 'faces.', 'sip', 'extracting', 'miasmic', 'flakes', 'tells', 'wagon', 'here.', 'acute', 'field', 'orgasms', 'taylor', 'currently', 'faded', 'spheres', 'dormitory', 'rubber,', 'impression.', 'supply', 'weak', 'teeth,', 'shrugged.', 'fluid', 'proprietor', 'are', 'unfamiliar', 'sneer,', 'stayed', 'dream.', 'demolition', 'lumpy', 'turning', \"hasn't\", 'swings', 'diplomat', 'stood', 'radio', 'horror.', 'mrs.', 'bronze', 'armor', 'courage', 'disgusted', 'powdered', 'probably', 'late.', 'bark', 'glowed', 'behind', 'naked.', 'exactly.', 'stab', 'treat', 'wheel.', 'tin', 'intersects', 'tent', 'polishing', 'fundamental', 'miracle', 'mooching', 'more', 'flute', 'date', 'forcing', 'cooler', 'performance.', 'visa', 'clung', 'garden', 'scattered', 'memory.', 'formal', 'conjured', 'stirred', 'green-black', 'files,', 'moments', 'farmer', 'impossible.', 'hospital.', 'terrible', 'fell', 'coffin,', 'gilly', 'practices', 'whistles,', 'flushed', 'sink', 'calls.', 'strung', 'habit,', 'procession', 'factory', \"i'd\", 'fiend', 'crackled', 'smiles', 'ling', '\"bring', 'shit!', 'stolen', 'rivers.', 'car', '\"he', 'concepts', 'shatters', 'own', 'corkscrew', 'speared', 'evil.', 'reformed', 'flickered', 'right,\"', 'speaker', 'pine', 'movement,', 'release', \"christ's\", 'death', 'relief,', 'cause', 'congress', 'abdomen', 'politics', 'followers', 'exempt', 'waist', 'siamese', 'unseen', 'whores', 'trafficking', 'clap.', 'europeans', 'instance', 'falling-photo', 'veil', 'signature', 'intersect', 'player', 'happens', 'freeze', 'commission', 'drooling', 'edge', 'cry.', 'gymnasiums', 'until', \"wouldn't\", '\"aw', 'time)', '\"you\\'ll', 'carious', 'halos', 'bradly,', 'pro', 'like:', 'full', 'desk.', 'whispers', 'formula', 'rail,', 'electronics,', 'shouts:', 'raw', 'powder', 'tree', 'leaves', 'factor.', '(i', '\"two', 'room.', 'smile', 'loosed', '\"go', 'is,\"', 'sea,', 'mesas', 'purpose,', 'queer.', 'his', 'haze', 'blighted', 'realized', 'in', 'insists', '\"like', 'spoon.', 'again.', 'known', 'am?', 'lord', 'increasing', 'things.', 'skill,', 'spelt', '35', 'despair.', 'analysis', 'drunken', 'tracing', '2:', 'invading', 'lasted', 'resist', 'fag', 'inside.', 'guests', 'takes', 'chorus', 'prove', 'chicken.', 'silly.', 'flowing', 'shoulder.', 'police,', 'familiar', 'doctor,', 'baneful', 'separator', 'beard.', 'parts', 'james', 'slips', 'ectoplasm', 'innarested', 'crustaceans', 'whimpers', 'july', 'past', 'hip', 'marks?', 'shit?', 'famous', 'narcotic', 'erections', 'stasis', 'handy', 'object.', 'heavily', 'ago', 'hat', 'stop:', 'vomit', 'toy', 'italian', 'capitalist', 'refer', 'frantic', 'fore', 'blame', 'wonder', '\"so?', 'railroad', 'dipped', 'reverse', 'moon.', 'asshole?', 'cock,', 'boy?', 'swirling', 'boys,', 'think?\"', 'sabe', 'finally', 'badge', 'shadow', 'here\"', 'easier', 'security', 'visits', 'larynx', 'grows', 'hastily', 'he?', 'tracks:', 'chlorine,', 'speech', 'hum', 'this,\"', 'reported', 'muscular', 'gets', 'tendrils', 'officials', 'knee', 'fainter', 'swish', 'yours', 'intend', 'black', 'burn', 'actually', 'dig?', 'department.\"', 'hype', 'asked,', 'shops,', 'rumbles', 'musty', 'college', 'kick.', 'anal', 'whale', 'shy', 'tunic', 'barrier', 'welcomes', 'world.', 'ah', 'ass,', 'spirit', 'arrangements', 'meal.', 'moonlight', 'jail,', 'paper.', 'directly', 'nausea', 'sex?\"', 'part-time', 'depopulated', 'indicating', 'medicines', 'amendment,', 'mrs', 'performed', 'it!\"', 'week.', 'pretend', 'smithers', 'deposit', 'retake', 'oblique', 'wrecked', 'front', 'caressing', 'guarded', 'prick', 'connected', 'wriggle', 'slide', 'hernia', '-)', 'go', 'solemn', 'doc.', 'distaste', 'arbitrary', 'satisfaction', 'launching', 'none', 'rotation', 'borderline', 'watches', 'operators', 'wounds', 'enormous', 'berserk', 'hand,', 'impression', 'degradation', 'repossess', 'un-american', 'finishes', 'recall,', 'lotus', 'sir\"', 'unconscious', 'regulator', '2.', 'knocked', 'countries', 'systems', 'list', 'clusters', 'presence,', 'cum', 'emotion', 'uses', 'word?', 'symbols', \"doctor's\", 'rum', 'than', 'gasping', 'free', 'possible.', \"'to\", 'shared', 'understood', 'distinction', 'afternoon', '\"come', 'unlock', \"j.'s\", 'this', 'because', 'parlors', \"me,'\", 'masturbated', 'arab,', 'underneath', 'converged', 'these', 'death,', 'barbed', 'naturally', 'autographed', 'clem,', 'cocaine.', '\"william', 'on', 'eye.', 'carbon', 'letter.', 'found', 'contact', 'level', 'dying', 'blankets.', 'pond', 'lovely', 'further', 'him.\"', 'human.', 'yelling:', 'finish', 'hard-on', 'safety', 'quivering', 'pan', 'sweden', 'above', 'sex.', 'transmitted', 'bare', 'bane,', 'unlucky', \"buyer's\", 'if', 'pay,', 'fallout.', 'chili', 'talk.\"', 'surgery.', 'branches', 'gibber', 'bottled', 'zone,', 'brass', 'nine', 'unchanged', 'l.', 'conflict', 'picks', 'underwater', 'shrieking', 'least,', 'baths', 'pockets,', 'neutral', 'gauze', 'user', 'quick', 'studied', 'anywhere', 'childhood.', 'sick', 'vines.', 'interest.', 'blood.', 'black-market', 'feeble', 'unison', 'out\"', 'evidence', 'chinaman', 'surface', 'bang-utot', 'towel.', '\"such', 'grade', 'estimate', '(this', 'flare', 'international', 'equal', 'birdcalls', 'sniffing', 'dog', 'plays', 'caress', 'attracted', 'rot', 'ramp', '8', 'crates', 'de', 'merchandise', 'grinning', 'rusted', 'syringe.', \"don't.\", 'simplest', 'paralysis', 'disperse', '\"no!', 'smoky', 'cosmic', 'source', 'stetson', 'sword', 'bread', '23', 'synapses', 'umbrella', 'caressed', 'swung', 'walk', 'continue', 'prince', 'respect', '(note:', 'iowa', '\"wrong\"', 'how', 'god!\"', 'paper-thin', 'pad.', 'kind', 'money,', '(it', 'toilet,', 'shudder', '91', 'mass', 'christmas', 'however', 'naked,', 'tom', 'dragged', 'puts', 'later.', 'bat', 'jolt', 'haute', 'conveyor', 'closet', 'delicious', 'declare', 'insulted', 'hottest', 'loads', 'units', '1959.', 'colors,', 'soap', 'raised', 'crowds', 'look.', 'was', 'blades', 'stupid', 'skates', 'chewed', 'skull.', 'deliberately', 'tang', 'clerk', 'thrust', 'remaining', 'things,', 'remembering', 'relief.', 'knees', 'director', '\"there', 'trench', 'mutter', 'bore', 'cadet', 'film', 'lapses', 'tiers', 'wallet', 'outlined', 'constructed', 'waiting', 'razor', 'sender', 'paralyzed,', \"'a\", 'suspect', 'algiers', 'orchestra,', 'tapeworm', 'croaking', 'cheating', 'named', 'clicked', 'imitating', 'august', 'noises,', 'suggests', 'legs', 'burning', 'intended', 'socket', 'novel', 'cotta', 'sos', 'syndicates', 'substance', 'cost', 'mayan', 'confuse', 'storm', '72', 'jumps', 'mob:', 'rolled', 'siphoned', 'been', 'all.', 'wine', 'school', 'now?\"', 'superego', 'deformed', 'converting', 'sock', 'television', 'ash-brown', 'long.', 'sailor,', 'ewyork,', 'strange,', 'drove', 'stimulation', 'minute', 'geometrically', 'toy.', 'cans', 'stuff', 'along', 'shoes', 'judges', 'neurotic', 'paint', 'commandante', 's', 'summarily', 'golden', 'dunking', 'radioactive', 'benign', 'parlors,', 'go!\"', 'odds', 'spinal', 'glides', \"haven't\", 'war', 'vagrant', 'leak', 'million', 'siren', 'gas.', 'window', 'quarter', 'greet', 'wisdom', 'dreary', 'most', 'statue', 'muscles', 'leave', 'cobra', 'brakes', 'swing', 'retired', 'understanding', 'issues', 'quivers', 'surges', 'palm', 'circles', 'sir.\"', \"other's\", 'bye', 'finished', 'truck', 'sweep', 'javanese', 'blobs', 'fornication', 'valor', 'transient', 'truth', 'sensitive', 'deposition', 'weep', 'jasmine', 'bitter', 'seismic', 'beats', 'possibilities', 'will', 'revelation', 'shifty', 'demean', 'slum', 'queers', '-so', 'total', 'dynasty', 'closed.', 'child,', 'condoms,', 'is?', 'swatting', 'mandrakes,', 'eating', 'questions', 'advertising', 'kidney', 'poisonous', 'devious', 'manhattan', 'dining', 'clogged', 'prisoner', 'lawd', 'territory', 'precisely', 'whisper.', 'gaping', \"captain's\", 'vault', 'dogs.', 'somebody', 'afternoon,', 'blast', 'pretended', 'hut,', 'shift', 'ky', 'america:', 'objects,', 'filtered', 'monkey,', 'coil', 'blasted', 'cocktails', 'gasoline', 'provided', 'blind,', 'faces', 'pick', 'wiping', 'meester.', 'remarks', 'beam', 'interested', 'jewelry', 'crawls', 'page.', 'detained', 'handed', 'asylum', 'lemon', 'defector', 'satellite', 'lark', 'stairs', 'fractured', 'klinker', 'invisible', 'prophetic', 'attraction', 'waste', 'companies', '50', 'frayed', 'masturbating', 'replace', '\"very', 'thighs.', 'signs', 'color.', 'shuttered', 'amazon', 'go,', 'town,', 'ways', 'variation', 'glen', \"else's\", 'lai', 'blizzards', 'bannisteria', 'do.', 'stop,', 'pen', 'ease', 'game,', 'johnny.', 'hustling', 'skulls', 'departed', 'pop', 'please,', 'frankly', 'gadgets', 'skeletons', 'orgones', 'qualitatively', 'east,', 'sounds', 'biologic', 'cooling', 'unit.', 'say:', 'substituted', 'expelled', 'gradually', 'meetings', 'fool', 'compound', 'sheffield', 'shows', 'supported', 'photographed', 'sullen', \"doesn't\", 'machines', 'octopus', 'supply,', 'discordant', 'would', 'shot,\"', 'down', 'track,', 'youth', 'whereupon', 'nails', 'fantastic', 'does', 'slime', 'dangerous.', 'asshole,', 'pest', 'niche', 'underwear', 'veranda', 'tank', 'spaced', 'mind', 'representatives', 'tongue', 'extermination', 'initiates', 'flats', 'remotely', 'harmonica,', 'nude', 'unpopular', 'lust.', 'victory', 'animal.', 'claws', '\"besides', 'dreaming', 'suitcase', 'i’m', 'itself.', 'practical', 'morocco', 'orgones,', 'first', 'he', 'ordered', 'place,', 'thirty', 'alive.', 'grew', 'precipitated', 'jewish', 'cunt', '(see', 'fur', 'traffic', 'eating.', 'predilection', 'exquisite', 'trash', 'parlor,', 'already', 'center', 'dresser', '\"me', 'worthless', 'thin,', 'crew', 'actual', 'mental', 'barracks,', 'kidnap', 'prototype', 'york.', 'tingling', 'information', 'verdigris.', 'hogs', 'other,', 'screaming', \"boy'\", 'other', 'unaware', 'monk.', 'match', 'stairs.', 'assassins', 'guide', '92', 'paper', 'impossible', 'wires,', 'please.', 'shave', 'twitching', 'protein', 'up', 'slender', 'send', 'future,', 'wrong', 'scuttles', 'qualities', 'swim', 'liable', '\\'63,\"', 'fibrous', 'westminster', 'flares', 'wrong,', 'cryptic', 'advanced', 'concerning', 'intoxication', 'laughed.', 'stern', 'departments.', 'flowers', 'origin', 'errand', '\"now,\"', 'sharks.', 'spurting', 'lost', 'home?', 'drums', 'forty', 'suits', 'war.', 'flute,', 'sleep,', 'area.', 'tortured', '“you', 'drugstore.', 'mendicant', 'occurred', 'towns', 'execution', 'immobile', 'anybody', 'twanging', 'ladders', 'taxi', 'with', 'agents', 'himself.', 'glorifying', 'large', 'baboon', 'evacuation', 'sleep', 'junkies', 'prior', 'camps', 'plan', 'picture', 'hate,', 'grown', 'dies', 'antidote', 'record', 'well,', '38', 'left,', 'seeps', 'boarding', 'glinting', 'fear', 'assessed', 'bedpans', 'syringe', 'doing', 'blood,', 'structure', 'wad', 'took', '\"son', 'unite.', 'vertigo', 'pharmaceutical', 'molester', 'opium', 'history', 'arm.', 'endure', 'ghost.', 'material', 'loaded', 'stand', 'tasting', 'goosed', 'archaic', 'adzes', 'chest', 'eerie,', 'transferred', 'bullheads', 'cancer,', 'cave', 'considerable', 'funny,', 'park,', 'calle', 'flash.', 'boys\"', 'remembered', 'adolescent', 'states,', 'violent', 'location', 'guides', '\"who', 'ugly', 'hopeless', 'jai', 'available', 'canal', 'head,', 'onto', 'see,', 'gob', 'stalk', 'arranging', 'loose', 'shitting', 'african', 'boats', 'cracks', 'negroes,', 'way?\"', 'jissom.', 'uniform.', 'doubles', 'i', 'glad', 'awning', 'operation', 'hours', 'attributed', 'dragging', '28', 'confounded', 'hypothalamus.', 'inclined', 'spanish,', 'professor', 'alert', 'six', 'beast', 'three', 'addressed', 'climate', 'merely', 'necessity', 'monopolized', 'produces', 'larger', '\"fats\"', 'whitest', 'readers', 'william', 'proposition', 'playfully', 'law,', 'receive,', 'i.e.', 'nine.', '(he', 'faith', 'judge', '\"johnny\\'s', 'attempts', 'achieves', 'ornate', 'threats', 'frustrated', 'outer', 'hundred', 'headquarters', 'balanced', 'published', 'gestures', 'organization', 'cap', 'lee:', 'bulletin', 'brushed', 'cloth.', 'j', 'different.', 'climbed', 'más', 'picked', 'greases', 'ultimately', 'bandages', 'unexpectedly', 'mob,', 'examining', 'played', 'closer', 'enema', 'pedestal', 'drop.', 'idiots', 'croakers', 'be', 'sun', 'occupation', 'oppose', 'humming', 'insecure', 'came', 'inch', 'hanged', 'accompany', 'higher', 'straw.', 'fireworks', 'according', 'today.', '\"monstrous!\"', 'ooze.', 'latahs', 'prerecorded', 'gently', 'caught', 'friday', 'vibrations', '\"how', 'basements', 'thought', 'grip', 'occupies', 'referring', 'right?\"', 'laughs', 'department', 'atlantic', 'cake.', 'installations', 'corn', '70', 'glow', 'straps', 'brother', 'unworthy', 'whyncha?\"', 'relatively', 'arguing', 'mutatis', 'certainty.', 'panama', 'despair', 'their', 'gangster', 'throats', 'risk', 'dye', 'happening', 'play', 'nick', \"'you\", 'shake', 'beer,', 'grounds', 'composed', 'booths', 'captive', 'healed', 'chain', 'routine,', 'heh', 'but,', 'pulling', \"there's\", 'raising', 'casita,', 'pirouettes', 'butcher', 'balcony', 'loud', 'locker', 'peru', 'time,', 'laughed', 'spoons', 'c.', 'sheik', 'piled', 'bellow', 'suitable', 'mikes', 'doses', 'connections', 'men', 'macho', 'flaking', 'tattooed', 'jimmy', 'intricate', 'whispered', 'novels', 'decorate', 'dirty,', 'success', 'studying', 'outa', 'land', 'while', 'applying', 'slipped', 'appropriate', 'half,', 'cry', 'lock', 'basin', 'queer', 'peat', 'outskirts', 'country.', 'forest', \"fever,'\", 'bloomed', '-he', 'liars', 'slime,', 'exits', 'nod,', 'addicted', 'pounds', 'much', 'sign:', 'tobacco,', 'dont', 'robes', 'ejaculate', 'bulkhead', 'dwarf', 'there,', 'anker', 'mutters', 'ear', 'peterson', 'relevant', 'determine', 'defines', 'famine', 'rooms', 'weed-grown', 'door-', 'track', 'dance.', 'jail', 'purity', 'muttering', 'thirsty', 'fed', 'foreigner', 'parasitic', 'hans', 'slash', 'possible,', 'souped', 'wispy', 'otherwise', 'mutterings', 'speed,', 'scenic', 'metal-lined', 'toothpick', 'lewd', 'swells', 'delirium', 'thought,', 'representative', 'reading', 'tones', '\"sit', 'stiffening', 'numb', 'equation.', 'railway', 'drips', 'phony', 'western', 'demerol', 'pulse', 'yage,', 'ripped', 'boats,', 'lands.', 'overcoat.', 'directing', 'blurring', 'streets,', 'favor', '\"sew', 'necklace', 'paco,', 'evoke', 'contains', 'mason', 'friends.', 'girl?', 'thermodynamics', 'orgy.', 'met', 'privies', 'inna', 'rope.', 'score?', 'consist', 'captain', 'store,', 'where?\"', 'chest,', 'ill', 'no,', 'overwhelming', 'spreading', 'applied', 'river', 'stalls', 'suicide', 'bloodless', 'sides', 'fumbled', 'occasion', 'death.', 'sunrise', 'week', 'prepare', 'occasioned', 'due', 'swell', 'mindless', 'coca', 'thousand', 'leaning', 'past.', 'not?', 'fun', 'users', \"fever'\", 'agent,', 'uniforms,', 'extremely', 'mayans', 'banker', 'horrid', 'john', '\"we', 'maximum', 'tighter', \"i'll\", '\"doctor', 'common', 'disconnect', 'died,', 'blew', 'infantile', 'state.', 'attention.', 'blonde', 'contracted', 'navy', 'themselves', 'weeds', 'tie-up', 'manager', 'face,', 'clamps', 'rang', 'handle', 'feels', 'denounce', 'ahead.', 'plop.', 'vessel', 'tincture', 'somewhere', 'shots', 'swimming', 'stopped', 'charges', 'on.', 'life', 'way.', 'chicken', 'influence', 'silence.', 'for?\"', 'dice', 'sport', 'medicina,', 'jockey', 'slippery', 'santa', 'damn', 'cop', 'wedge', 'disease', 'warning,\"', 'vacuum', 'scorpions', 'speaks', 'sounded', 'bridge.', '-that', 'stumble', 'burns', 'water,', 'piloted', 'indication', 'secret', 'steel,', 'chamber', 'opiates', 'spears', 'threatening', 'avoid', 'heart', 'secretary', 'angel', 'duty', 'undergo', 'lapels.', 'tight.', 'hot,', 'extra', 'artist.', 'patted', 'happen', 'rotting', 'complain', 'already.', \"ali's\", 'article', 'switches', 'spoken', 'peel', 'fountain', 'offers', 'snatch', 'cheer', 'deal', 'scroll', 'stylized', 'k', 'stomachs', 'substitute', 'fucked', 'homicide', 'temple.', 'slipping', 'inflamed', 'pilot', 'chewing', 'appalling', 'pant', 'out?', 'your', 'jerks', 'flowers.', 'pallet', 'native', 'andes', 'bumps', 'leg,', 'frame.', 'contracting', 'superhuman', 'growling', 'hidden', 'unit', 'god', 'culture', 'generation', 'deny', 'forms.', 'coax', 'wearing', 'doll', 'drunk,', 'prison', 'uncertain', \"johnny's\", 'handcuffs', 'torn', 'heart.', 'up:', 'stairway', 'trapeze', 'doubt', 'breaking', 'places', 'slots', 'grain', 'palms,', 'remember?', 'whip', 'psychiatrist', 'diseases', 'distance,', 'fights', 'waves', 'bust,', 'regular', 'spider', 'wax', 'molecule,', 'skill', 'shame', 'soldiers', '\"but,', 'subsisting', '\"an', 'rains', 'oozes', 'flares,', '\"this', 'coffin', \"he'd\", 'habit:', 'bowl.', 'luminous', 'serving', 'nice', 'wall.', 'concentration', 'anthony', 'me.', 'careful.', 'whiffs', 'industry.', 'located', 'caps', 'sex', 'glare', 'eleventh', 'grin', 'an', 'personnel', 'cheek', 'hair.', 'buzzed', 'borrowed', 'surplus', 'drug', 'anti-semitic', '\"you\\'re', 'mexico', 'west.', 'cakes', 'detective', 'dances', 'fasten', 'crime', 'jacked', 'exposure.', 'supposed', 'seventy-two', 'listen,', 'brutal', 'crowd.', 'purple-assed', 'monsters', 'consumption', 'dull', 'blinding', 'delicate', 'letting', 'hard.', 'equilibrists', 'joke.', 'curiosity', 'surgeon', 'drags', 'short-arm', 'formula,', 'procedure.', 'are.', 'cold.\"', 'parody', 'quickly,', 'groaning', 'british', 'resistant', 'acted', 'rocking', 'work.', 'plague', 'attention', 'extension', 'outright', 'boys', 'including', '\"here\"', 'in.', 'combo', 'law.', 'boss', 'molecules', 'injections', 'dick', 'bitch!', '47', 'lady', 'box,', \"'\", 'called.', 'beauty', 'flower', 'corpses', 'invade', 'muttering.', 'purchased', 'precautions', 'pot.', 'mixed', 'berlin', '\"well,\"', 'something.', 'aroused', 'yards', 'sweet', 'now,', 'permutation', '-you', 'constituents.', 'burial', 'completed', 'dust.', 'perhaps', 'particularly', 'collected', 'proteins', 'negative', 'suddenly', 'junk-sick', 'sprouting', 'gash.', '\"take', 'abandoned', 'terror', 'spring', 'rent', 'research', 'aqualungs', 'bus', 'trailing', 'discomfort,', 'crosses', 'lights.', 'sorry,', 'anesthesia', 'existing', 'players.', 'prepared', 'apparently', 'banner,\"', 'snapped.', 'from.', 'told', 'ship', 'loved', 'lease', 'locals', 'copenhagen', 'lung', 'pumping', 'wrestling', 'assistant', 'nettles', 'cigarettes', 'fumes', 'republic', 'profound', 'forgot', 'grass.', 'intention', 'aztec', 'derives', 'attempt', 'voice:', 'cooks', 'first,', 'squeezed', 'stanley', 'whispering', 'taught', '/', 'tend', 'interrogation', 'cough', 'respective', 'withered', 'scrap', 'plating', 'guard', 'step.', \"'you're\", 'lack', 'shannon', 'screwdriver', 'devil', 'squirmed', 'necessary.', 'straddles', 'baboon,', 'colonial,', 'telegraph', 'deplore', 'bands', 'mirror,', 'bars', 'streamed', 'hat.', 'pisses', 'changing', 'proceed', 'bank', 'survivors', '\"that', 'organize', 'junky,', 'occasionally', 'neon', 'ball', 'scavenger', 'block', 'leap', 'forbidden', \"didn't\", 'general,', 'charcoal', 'sprawled', 'shrank', 'sponge', 'virtually', 'softens', 'rape', \"'here'\", 'stay', 'adjusting', 'urine', 'flesh.', 'eats', 'feature', 'bedbugs', 'deplorable', 'self-abuse.', \"here's\", 'wholly', 'flames', 'nudes', 'you.', 'doctors,', 'hehe', 'habit-forming', 'german', 'type.', \"it's\", 'creeps', 'genitals.', 'arctic', 'laugh', 'orgasm', 'bolt', 'seals', 'layout', 'creative', 'bartender', 'nobody', 'personalities', 'concert', 'alarm', 'through.', 'largely', 'drowning', 'latah.', 'throat', 'greedy,', 'powers', 'winning', 'call', 'wheels', 'copper,', 'capture', 'lighted', 'it,', 'vegetable', 'sailed', 'music', 'man', 'apart.', 'begin', 'crab', 'less', 'do?\"', 'coughing', 'midway', 'written.', 'parrot', 'girls', 'jazz', 'alleys', 'catch', 'mary,', 'magazines', 'hungry', 'various', 'behind?', 'branch', 'c', 'laughed,', 'auntie', 'sabotage.', 'shakes', 'p', 'dig.', 'whips', 'definitely', 'ankles.', 'hour.', \"bill's\", 'quickly', 'wet', 'hoping', 'guns', 'withdrawal', 'single', 'raise', 'naval', 'fascist', 'cancer', 'thawing', 'bastards', '\"something', 'this.\"', 'lunch.', 'psychic', 'chimneys', 'bar.', 'chips', 'gains', 'erect', 'emergency', 'hand:', 'beginning', 'tablets', 'lymphogranuloma,', 'french.', 'sits', 'burned', 'mattresses', 'call.', 'fire.', 'work', 'maps', '\"poor', 'help', 'raises', 'cosas', 'please', 'satisfy', 'best', 'revels', 'fanned', 'possessing', 'statements', 'stomach', 'jew', 'agreed', 'causes', 'nocturnal', 'microphones', 'leaps', '\"hello,', 'circle', 'cemetery.', 'putumayo', 'fog', 'went', 'european', 'treasury', 'informed', 'attempted', 'area', 'happens.', 'soundless', 'execrable', 'noon', 'stir', 'experimental', 'missouri,', 'dissolve', 'murder', 'panic', 'very', 'easily', 'martyrs', 'method', '\"the', 'taken,', 'etched', 'income', 'likely', 'shirt,', 'frowned', 'luck', 'picture.', 'manipulation', '103rd', 'shithouse', 'own,', 'indeed', 'state', 'a', 'heroin', 'susceptible', 'nations', 'undressed', 'crack', 'frivolous', 'nurse', 'holes', 'thread', '74', 'slightly', '118', \"she's\", 'skip', 'activated', 'orange', 'dropper.', 'kitchen,', 'question', 'rays', '(holding', 'niggers', 'taste', 'earthquakes', 'spectral', 'charging', 'emergent', 'slowing', 'especially', 'this?', '\"that\\'s', 'exchanged', 'vile', 'flaws', 'penitentiary', 'cafe.', 'lonesome', '\"clearly', 'price', 'fugitive', 'time.\"', 'shirt.', 'sentence', 'wipe', 'train', 'swirls', 'loves', 'mud', 'shuffle', 'supply.', \"what's\", 'broker', 'interesting.', 'east', 'intimate', 'rushing', 'awful', 'must', 'rag.', 'yielding', 'lifts', 'froze', 'made', 'pot', 'deep', 'nature', 'loudspeakers', 'beyond', 'service.', 'dodge', 'backs', 'jeep', 'disintegrates', 'ravening', 'blow', 'meaningless', 'arrangement.', 'worry', 'boarded', 'bed', 'casualties', 'crystals', 'equipment.', '1963', 'pawn', '\"you', 'pole', 'him.', 'piece', 'leaping', 'tiresome', 'tile', 'currency', 'hitchhiker', 'battery', 'hooded', 'smooth,', 'coughed', 'grass,', 'critical', 'cafes', 'suffocate', 'back', '\"i', 'creatures', 'sinister', '\"sidi', 'sedative', 'easy,', 'motion,', 'dying,', 'suffocating', 'stroke', 'continually', 'remind', 'sing', 'bedroom', 'inoculation', 'finger', 'suitcase.', 'stand.', 'prickling', 'restaurants', 'having', 'type', 'maternity', 'testicles', 'indicates', 'reaching', 'original', 'trails', 'sinks', 'murmur', 'job', 'eyes:', 'nautical', 'transvestite', 'stings', 'bounce', 'times.', 'incompatible', 'square,', 'flopping', 'ejaculated', 'department,', 'fly', 'realizing', 'lights', 'march', 'sofa', 'desks', '\"guess', 'foreign', 'ditch', 'afterbirth', 'expected', 'blade', 'blank,', 'periods', 'encephalographic', 'jade', 'god.', 'tangier', 'passer-by', 'deeds', 'seal', 'gleamings', 'survival', 'day.', 'stone,', 'helmet', 'being.', 'blast,', 'teeth', 'snap', 'features', 'thirteen', 'cairo', 'this-\"', 'military', 'nose,', 'lamps', 'king', '\"but', 'thinks', 'oil,', 'pay', 'covering', 'h,', 'capital.', 'cheap', 'movements', 'paranoid', 'car.', 'stress', 'drag:', 'cases,', 'filing', 'friends,', 'more.', 'bottomless', 'diamond', 'circle,', 'then?', 'for,', 'fixes', 'hashish', 'tibetan', 'cling', 'anywhere:', 'ghastly', 'check.\"', 'bucket', 'incision', 'rendered', 'tumor', '\"your', 'vein', 'bitch', 'criminal', 'is,', 'hepatitis', 'obsolete', 'anywhere?', 'materials', '\"lost', 'pattern', 'confusion', 'voice.', 'jags', 'had', 'view.', 'eager', 'castrated', 'watching', 'steady', 'couch', 'instruction', 'wheel', 'stranger', 'elements', 'desolate', 'pressure', 'man?\"', 'pistols', 'know.\"', 'sifting', 'rainbow.', 'sunday', 'spill', 'mechanical', 'frequently', 'fits', 'storms', 'indelible', 'else.', 'pass,', 'frogs,', 'york', 'attic', 'sign', '\"all', 'government', '\"now', 'squares', 'backwards', 'dropped', 'potential', 'cigarettes.', 'christ', '\"let', 'side.', 'gravity', 'chalk', 'kidney,', 'tape.', 'else?', 'rank', 'reduced', \"'the\", 'breathless', 'chance.', 'despite', 'arabs,', 'poker', 'rearrange', 'shore', 'throbbing', 'liquefying', 'soft,', 'wig', 'where', 'normally', 'deprived', '\"havingness\"', 'flame.', 'unnecessary', 'uranium', 'discuss', 'blown', 'layers', 'jerky', 'bones.', 'species', 'jerkily', 'mosaic', 'thrill', 'dream?', 'seeing', 'tenor', 'dictates', 'hill', 'described', 'scrub', 'tubes', 'bow', 'lies', 'buttons', 'station.', 'modern,', 'condom', 'personal', 'arabic', 'lagoons', 'bureaucracy,', 'adequate', 'fingers,', '\"mother', 'vulgar', 'folks.', 'fight.', 'notes.', 'book', 'replica', \"o'clock\", 'owned', 'insults', 'cleaver', 'hall', 'peddling', 'rhythms', 'live', 'contorted', 'hustler', 'continual', 'monumental', 'see', 'unmistakably', 'right', 'me.\"', 'quivered', 'bone.', 'knotted', 'title', 'club,', 'gangrene', '\"know', 'signs,', 'thighs,', 'judo', 'noose.', 'highly', 'ovens', 'irradiated', 'shiny', 'examination', 'latent', 'suggesting', 'gained', 'pump', '`do', 'junk', 'time.)', 'propositions', 'police', 'vibrator', 'permanent', 'group', 'patrons', 'wardrobe', 'built', 'rear', 'midnight.', 'pancake', '\"naw,\"', 'coordinate', 'infamous', 'hauser.', 'funny', 'coming', 'stake', 'sawski', 'sat', 'around,', 'wholesale', 'knowledge', 'dried', 'increased', 'brings', 'its', 'shell.', 'coon', 'professional', 'yellow', 'turd', 'interplanetary', 'soil', 'still,', 'know,', 'closing', 'el', \"we're\", 'dope', '(all', 'jobbies', 'squinted', 'resistance,', 'talk?', 'atom', 'blurs', 'tapped', 'gloomy', 'ruins', 'gongs', 'limbs', 'mocking', 'place?', 'a.m.', 'cities', 'profession', '\"perhaps', 'stall', 'seduce', 'urinal', '1962,', 'newspaper', 'toes', 'penalty', 'careen', 'papers', 'blinded', 'reminded', 'pain', 'say,', 'milk', 'neural', 'chlorophyll', 'inextricably', 'stretches', 'detectives', 'tool', 'whatever.', 'martin', 'keep', 'respectable', 'trot', 'pool,', 'greasy', 'body?', 'membrane', 'smells,', 'heaviest', 'merchant', 'blue.', 'afterbirths,', 'doctor?\"', 'centers', 'tony', 'squirming', \"-it's\", 'principle', 'rectums', 'green,', 'shrugged', 'offend', 'drink', 'observer', 'animals\"', 'conclusion', 'both.', 'ground.', 'charles', 'builds', 'straining', 'revolting', 'huts', '\"five', 'trees', 'standard', 'fluid.', 'dignity', 'reasonable', 'substance,', 'outline', 'peanut', 'desire', 'bribe', 'lines', 'bell', 'u.s.', 'train.', 'drift', 'men.', 'latah', 'addicting', 'drains', 'cub', 'chop', 'china,', 'distance', 'union', 'man?', 'death?', 'contingent', 'accounts', 'gentleman', 'manner', 'technician.', 'atrophied', 'pleasures', 'border', 'books,', 'hurts', 'flesh', 'blows', 'earth,', 'pulses', '43', 'licked', 'pyramids', \"'my\", 'let', '500', 'squawking', 'fades', 'big', 'rubs', 'silence', 'internal', 'straight', 'line?', 'doc', 'random', 'eyeless', 'shut.', 'tourist', 'splash', \"willy's\", 'nembutal.', 'passenger', 'surrender', 'moaning', 'passengers', 'kills', 'guy,', 'warn', 'lands', 'squirm', 'chicks', 'landlord.', 'bulb', 'deserted', '\"wait', 'look:', 'combined', 'loudspeaker', 'depressed', 'arrested', 'sucks', 'kells', 'yet?', 'card', 'impasse', 'falsetto.', 'concentrated', 'valley.', 'hygiene', 'hammocks', '-when', 'junky.', '79', 'repetition', 'glowing', 'solid.', 'hand.', 'exit', 'hallucinogen', 'elegant', 'mushroom', 'ropes.', 'beg', 'grabbed', 'wooden', 'booth.', 'lice', 'jissom,', 'count', 'rustling', 'hydrochloric', 'civil', '\"everybody', 'fours', 'martin\"', 'auction,', 'obscene', 'conning', 'up,', 'quantities', 'juice,', 'aloof', 'instruments', 'patio,', 'balcony.', 'anything.', '(we', 'reality', 'seated', 'spy', 'jump', 'while.', 'servants', 'unspecified', 'wrapped', 'sailors', 'worm.', 'honest,', 'foam', 'fish,', 'bottles', 'melt', 'steady.', 'us.\"', 'anxious', 'caves', 'was.', 'linen', 'lesbian', 'herself', 'stripped', '\"enough', 'daisy', 'hang', 'gathers', '\"allah', 'virgin', 'floats', 'five', 'newspapers,', 'torch', 'tall', 'advantage', 'homosexual', 'stomach.', 'acting', 'falling\"', 'washing', 'district', 'body:', 'morning,', 'tables', 'bellowing', 'i,', 'reward', 'orleans,', 'sure,', 'patrol', 'sweater.', 'our', 'clinging', 'washed', 'stuttering', 'sput', 'heaps', 'placed', 'dreams', 'rectum.', 'them', 'last.', 'russia', 'radiator', 'ass', 'addicts', 'disk', 'sunlight,', 'mine', 'nodded', 'menstrual', 'ome,', 'steal', 'gimmick', 'sagging', 'ministry', 'flank', \"analyst's\", 'warehouses', 'barn.', 'developed', 'box', 'examine', 'circumvent', 'apply', 'jokes', 'hog', 'claims', 'visible', 'filmed', 'wires', 'attorney', 'fixed', 'consequent', 'short,', 'space,', 'that?\"', '\"fantastic!\"', 'occupy.', 'belonged', 'and,', 'showed', 'codices', 'tunes', 'expedition', 'cups', 'madam', 'littered', 'clerks', 'effective', 'foretold', 'phosphorescent', 'referred', 'broom', '\"isn\\'t', 'convulsions', 'arsenic', 'pride?', 'myth', 'static', '\"god', 'dross', 'ominous', 'specifically', 'jewels', 'during', 'papers.', 'beasts', 'me,', 'everything', 'novas', 'violin?', 'fever', 'hard-ons', 'damning', 'exactly', 'sadness', 'gather', 'mist,', 'spoke', 'snarl.', 'infested', 'restaurants,', 'what', 'mustache.', 'weell,', 'unusual', 'yesterday.', 'atypical', 'activating', 'ragged', 'veteran', 'minutes', 'catatonics', 'musical', 'sorry', '\"exactly.', 'roger', 'shouting', 'sperm', 'pending', 'dictate', 'gibbering', 'sound.', 'obtained', 'bulbs', 'strong', 'ferris', 'forget.', 'fixers,', 'orifices', 'undoubtedly', 'ground\"', 'alone.', 'ground', 'leaned', 'hid', 'su', 'senator', 'laced', 'landscape', 'vaporized', 'geometric', 'smile.', 'coffee', 'hammers', 'whirling', 'ski', 'chin.', \"day's\", 'later', 'beings', 'fingernail', 'button', 'point', 'holes.', 'sealed', 'gristle', 'doorways', 'limitations', '\"use', 'outline,', 'organisms', 'eyes,', 'pitchmen', 'reader', 'stimuli', 'bends', 'foot.', 'represent', 'chased', 'speeded', 'facts', 'weird', 'ankle', 'porticos', 'for.', 'salesman', 'cheat', 'institution', 'erection.', 'sir,', 'it?\"', 'ruined', 'dumping', 'intersected', 'quantity', 'emotional', 'twangs', 'envelopes', 'through', 'forms,', 'steak', 'nigra', 'bent', 'choked', 'apparatus', 'soul', 'classified', 'pollute', 'plummets', 'piping', 'barge,', 'interview', 'mexico,', 'lights,', 'bring', 'coordinates', 'resident', 'f', 'it’s', 'job.', 'opaque', 'knives', 'infer', 'fuzz,', 'trail', 'valley', 'process', 'kind,', 'clouds', 'syndicate', 'expose', 'butter)', 'age,', 'glory', '\"after', 'self-pity', 'outhouse', 'history,', 'phosphorous', 'trap,', 'throw', 'elimination', 'addiction', 'frontier', 'tail', 'shameless', 'exciting', \"'oh,\", 'given', 'boxes', 'primitive', 'assassinated', 'transmute', 'harness', 'possibility', 'boring', 'existence.', 'inexpensive', 'shimmering', 'victims', 'movies', 'axis', 'entire', 'roll', 'europe', 'tumescent', 'shape', 'denomination', 'pulled', 'meat,', 'barge', 'friend', 'sudden', 'glued', 'commerce,', 'cries', 'there?\"', 'wings', 'club', 'host', 'limits', 'biological', 'cloud', 'net', 'scraping', 'safer', 'brilliant', 'cone', 'hour', 'recent', 'unlike', 'custom', 'trays', 'guest', 'profile', 'bed,', 'agents,', 'storage', 'shove', 'mutinous', 'stronger', 'sniff', 'slight,', 'hangs', 'thigh', 'greek', 'extend', 'means', 'lucky', 'chair.', 'ration', 'accident', 'uniforms', 'pictures', '\"stop', 'cabinets', 'soliciting', 'lee,', 'dark.', 'photograph,', 'texas,', 'cannibal', 'rose', 'killed', 'virus', 'popular', 'explaining', 'chimu', 'falsie', 'levels', 'devices', \"he'll\", 'expeditor', 'lurked', 'illustrating', 'trauma', 'electrodes', 'anchor', 'careening', 'ravenous', 'weapons', 'case:', 'doublet', 'slower', 'done?\"', 'jerked', 'buy', 'paid.', 'senses', 'lots', 'riot', '\"photo', 'muslin', 'musicians', 'glasses,', 'answer', 'cars,', 'talk.', 'area\"', 'equivalent', 'probable', 'pea', 'danger,', 'tidy', 'hunger.', 'sample', 'letters', 'amputation', 'sleep.', 'accomplish', 'kicking', 'cruelty', 'accommodate', 'was,', 'explode', 'intervention,', 'objects', 'flutes', 'garage', 'grabs', \"push,'\", 'shop', 'edges', 'gesture,', 'prickle', 'planet', 'khaki', 'pressure.', 'scalpel.', 'hiding', 'vibrating', 'kits', 'accumulator', 'skin,', 'ovens,', 'trap', 'turkey', 'wasted', 'guides,', 'w', 'work:', 'copper', 'envelope', 'mood', 'glazed', 'lockers', 'vacant', 'pyramid', 'pants.', 'healthy,', 'rich', 'tell', 'cattle', 'charades', 'children', 'depression.', 'ruling', 'going', 'flashes', 'twilight', 'enable', 'rainbow', 'pus', 'stations,', 'plaza.', 'poisoned', 'photographer', 'typewriter', 'cease', 'replaces', 'force.', 'consent', 'revolving', 'really,', 'languages', 'chinese', 'hideous.', 'splinters', '\"there\\'s', 'character', 'strain', 'fifty', 'hotel', 'panic.', 'licensed', 'subway', 'warm', 'dioxide', 'pure', 'period', 'hundreds', 'sneers', 'finds', 'kicks.', 'cobra.', 'food,', 'cure', '\"one', 'warrants.', 'tossing', 'ladies', 'phallic', 'hear.', 'sky,', 'both', 'drop', 'mixing', 'cowards', 'hummed', 'employ', 'snow', 'fly,', 'gold,', 'tiny', 'mouldy', 'belly', 'imposed', 'sadly', 'stays', 'goddess', 'names', 'decide', 'can', 'come', 'breast', 'myself.', 'me:', 'war,', 'seven', 'rooming', 'invariably', 'fairies', 'pounding', 'matter.', 'moves', 'setting', 'ritual', 'you?\"', 'insolent', 'albino', 'condition,', 'enemy', 'pathic,', 'thermodynamic', 'insect', 'pressed', 'blink', 'meester', 'paintings', 'shocks', 'yes,\"', 'twists', 'yen,', 'acid', 'thrown', 'amber', 'surprised', 'to.', \"ain't\", 'kill', 'pimps', 'mark', 'levels,', 'shorts', 'night.', 'whimpering', 'prolapsed', 'hears', 'recently', 'switched', '(in', 'or', 'fading,', 'silver', 'bees', 'typewriters', 'heads.', 'smelled', 'clank', 'breath,', 'rotate', 'colorless', 'later,', 'pouring', 'strides', \"don't\", 'tornado', 'irrelevant', 'gibraltar', 'rites.', 'hombre', 'girl', 'when', 'feelers', 'weapon,', 'section', 'germans', 'controlled', 'certificate', 'replicas,', 'animal', 'radiant', 'object', 'rubber', 'rube!', 'noble', 'nausea.', '\"what', 'nutty', 'carpeted', 'enemy,', 'sexual,', 'temperature,', 'adds', 'fuck', '\"hurry', 'range', 'word', 'folks', 'butler', 'painted', 'pipe', '(though', 'narrow', 'troops', 'caresses', 'dignified', 'acrobats', '24', 'heavy.', 'cellar', 'd.c.', 'lolling', 'afternoon.', 'dismantle', 'pink', 'beaten', 'retain', 'chirps', 'scream,', 'communist', 'minister', 'barbiturates', 'crossed', 'shivering', 'there.', 'importance', 'hopelessly', 'skull', '78', 'brown', 'fans', 'condom,', 'survive', \"hadn't\", 'quantitative', 'carrion', 'fired', 'deftly,', 'dusty', 'harbor,', 'slow', 'thing,', 'poetry', 'drastic', 'copulating', 'saying', 'laid', 'nails,', 'lick', 'lookout', 'depended', 'pretending', 'peter,', 'trips', 'modern', '\"yeah.', 'minraud', 'junk-bound', 'captured', 'aboard', 'fumbling', 'tubes,', 'summons', 'hate', 'dummies', 'balked', 'yourself', 'graceful', 'police\"', 'marshes', 'riding', 'socks', 'tease', 'effluvia', 'perilous', 'slop', 'shiny,', 'siege', 'hostess', 'balls,', 'degenerate', '`green', 'connotation', 'memory,', 'reluctantly', 'pub', '\"as', 'unknown', 'cow', '\"it', '\"order', 'slopping', 'alibi.', 'brion', 'boulders', 'warmth', 'we', 'emaciated', 'numbers', 'stash', 'automatic', 'consisting', 'tuned', 'gallows', 'aft.', 'subsist', 'tax', 'scores.', 'echoes', 'george', 'brassiere', 'distinguish', 'chink', 'advise', 'rents', 'longer.', 'think.', 'nearly', 'lifted', 'headphones', 'clear.', 'idiotically', 'barking', 'horizon', 'fruit', 'yearly', 'sound', 'darted', 'sold', 'endanger', 'score', '“in', 'smears', 'calling', 'instances', 'reports', 'always', 'glance', 'extracted', 'talk', 'roots', 'buying', 'grope', 'awake.', 'spend', 'tailor', 'flared', 'disconnecting', 'cramps.', 'marks.', 'parasitism', 'hung', 'scores', 'feet', 'willing', 'diamonds,', 'boy-girl', 'chins,', 'reduces', 'passionate', 'fingers.', 'broad', 'camphor', 'hitler', 'spiraling', 'day', 'painful', 'whatever', '`you', '-your', 'priests', 'impressions', 'absently', 'manipulator', 'hammock', 'bagdad', 'sewage.', 'situation', 'anecdote', 'slacks,', 'apple', \"subject's\", \"ship's\", 'london.', 'himself', 'reaction.', 'extends', '\"huh?', 'exhilarating', 'no!', 'ladder', 'snapped,', '\"with', 'change.', 'articles', 'hour?', 'blood', 'yaller', 'gothenberg', 'critter', 'pieces', 'dodged', 'streaked', 'manuscripts.', 'nearby', 'shelf', 'nitrous', 'telepathic', 'fanning', 'example,', \"o'brien\", 'loneliness', 'shoulder', 'skin.', 'size', 'irrevocably', 'doling', 'least', 'subdivision,', 'beard', 'minutes.', 'tumors', 'shine', 'walking', 'is.\"', 'marine', 'canella', 'chief', 'cooked', 'limp', 'celluloid', 'tunnel', 'traveler', 'middle-aged', 'laying', 'voice', 'arrangement', 'waking', 'stools', 'burroughs', '55', 'photograph', 'ages', 'no', 'she', 'arm', 'mustaches', 'murder.', 'simple:', 'uh', 'gathered', 'stabs', 'san', 'share', 'maya', 'cows', 'schafer', 'cross', 'sauce', 'never', '1910', 'by,', 'murder,', 'thanksgiving', 'clipped', 'summoned', 'blackened', 'import', 'opal', 'processed', 'anywhere.', 'view', 'rattlesnake', 'waiter', 'pair', 'precinct', 'junk?', 'save', 'waters', 'curtains,', 'commuter', 'trailed', 'earliest', 'hanging', 'prisoners,', 'dressers', 'fraudulent', 'freelandt', 'cooperative', 'whitewashed', 'pagodas', 'escaped', 'succeed', 'mask', 'square.', 'pencil', 'tough', 'heels', 'central', 'stealing', 'cock.', 'tools', \"world's\", \"bullfighter's\", 'monsters.', 'serial', 'dancers', 'railways', 'budd', 'shadowy', 'control,', 'deever', 'lethal', 'success,', 'learned', 'this,', 'forgiven', 'shoot', 'ampule', 'tourists', 'cocoons', 'machine', 'adjust', 'way,', 'misunderstood.', 'recalled', 'that’s', 'showmen', 'service,', 'zone', 'deadly', 'so-called', 'have,', 'special', 'tree.', 'bed.', 'concerted', 'don’t', 'self-righteous', 'noxious', 'do', 'tiddly', 'moved', 'lee', 'work,', 'morse', 'lu', 'precision', 'subway,', 'spread', 'drawer,', 'packed', 'calls', 'flight', 'sanitarium', 'proof', 'flooded', 'menace', 'films', 'holes,', 'spell', 'electric', 'color-', 'transfer', 'creeping', 'compost', 'rags,', 'lamp', 'sooner', 'joined', 'reducing', 'rights', 'noisily', 'catches', 'sufficient', 'tower', '98', 'yipes', 'spurts', 'bradly', \"'oh\", 'kid', 'vicious', 'magnetic', 'over.', 'liver', 'rat.', 'termed', 'alarmed', 'pose', 'focus', 'claim', 'composite', 'draining', 'spray', 'does.', 'milky', 'totally', '-we', 'fill', 'cast', 'hustlers', 'apparatus,', 'say', 'fetch', '\"you\\'d', 'offered', '\"did', 'constituents', 'tracks.', 'disgust', 'magic', '\"look', 'sourly.', 'shits', 'called', 'iron.', 'spilling', 'disappears', '32', 'stopped,', 'uranians', 'visiting', 'divinity', 'representing', 'shower', 'murderer', 'corsica', 'jacket', 'dip', 'married', '?\"', 'stinging', 'cardiac', 'walls,', \"body's\", 'seeks', 'director.', 'material.', 'and', 'horrible,', 'addict,', 'lattice', 'strangled', 'shook', 'over,', 'indicate', 'vomited', 'need:', 'mother.', 'simple', 'slight', 'greeted', 'youths', 'doorway.', 'attack', 'door', 'guns,', 'positive', 'through,', 'sore', 'marijuana', 'hills', 'taped', 'variety', 'conceal', 'read', 'freckles', 'carry', 'mistake', 'advances', 'arty', 'frogs', 'which', '\"adrenalin,', 'reservoirs', 'carl', 'excrement,', 'guts', 'correlated', '5th', 'fred', 'toilet', 'erectile', 'claw', 'bureaus', 'severed', 'beached', 'quilted', 'casino', '1', 'supercilious', \"o'brien.\", 'ces', '\"fuck', 'concession', 'status', 'plots', 'island', 'platform', 'uglier', 'ermines,', 'huge', 'frozen', 'amount', 'wood.', 'crawled', 'shakespeare', 'tonight', 'jissom', 'sandals', 'gags', 'network', 'convicted', 'betrayed', 'included', 'involved', 'stumbled', 'city,', 'accused', 'reasonably', 'con', 'nod', 'spontaneous', 'pass', 'degraded', 'tingled', 'knows', 'smiled', 'patios', 'time.', 'animals.', 'booths.', 'spines', 'projector', 'freedom', '\"first', 'equivocal', 'singing', 'elbow', 'whenever', 'easy?', 'pornographic', 'chick', 'criada', 'forming.', 'variations.', 'arcades', 'wish', 'persimmons', 'handsome,', 'stubborn', 'simian', 'affective', 'inc.', 'furnished', 'bottom', 'marks', 'himself.\"', 'demanding', 'sole', 'disgruntled', 'darkening', 'catatonic', 'no.', 'sliced', '80', 'stilts', 'bills', 'fall', 'sees', 'mistakes', 'hook.', 'soaked', 'penis,', 'shoving', 'know-how', 'cheeks', 'incomplete,', 'centipedes', 'burlesque', 'fourth', '\"it\\'s', 'actor', 'bolivian', '39', 'agree', '\"gooks\"', 'clip', 'poet', 'walks', 'carny', 'fliday', 'clause', 'shoe', 'traced', 'towers,', 'sargasso', 'smashed', 'lover,', 'cigar', 'high.', 'separation', 'screaming,', 'continuity', 'writers', 'conversation', 'sand', 'outside.\"', 'install', 'fields,', 'reichian', 'awoke', 'feeling,', 'carried', 'thousands', 'deals', 'today', 'tobacco', 'outrigger', 'foul', 'rigid', 'bathing', 'other.', 'emerged', 'packing', 'boss,', 'copper.', 'bang', 'harm', 'sections', 'answer?', 'recognize', 'conflicts-this', 'dusk', 'use.', 'mines', 'break', 'aging', 'pools', 'behind,', 'pilots', 'underground', 'century', 'learn', 'arab', 'releases', 'matter', 'subject,', '“calling', 'involves', 'battle', 'belched', 'medicine', 'orbit', 'regulating', 'attempting', 'nostalgia,', 'thereby', 'chew', 'exists', 'changeling', 'covered', 'accustomed', 'continued', 'intermittent', 'fit', 'texas', 'analyst', 'received', 'bend', 'respects', 'assed', 'cycle', 'florida', 'millions', 'rest', 'kinds', 'tomorrow.', 'additional', 'originally', 'hysteria', 'ahmed', 'money.', 'cutaway', 'arranged', 'mechanisms', 'audience.', 'dishwater', 'surrounded', 'louse', 'gook', 'slug', 'fellow', 'yes', 'mescaline', 'else?\"', 'disembodied', 'shade', 'prevent', 'conical', 'aris,', 'hammers.', 'up.', 'sighing', 'name', 'intervals,', 'target', 'fbi', 'wheels,', 'dad', 'seating', 'frighten', 'hits', 'cops,', 'mechanism', 'southerly', 'thinking', 'has', 'tanger', 'level,', 'motion.', 'absorb', 'important', 'ferry', 'invaded', 'scotch,', '6:12', 'paretic', 'noticed', 'simultaneously', 'foot', 'house,', 'grills', '21', 'ramadan.', 'youths.', 'changes', 'every', 'discover', 'sprays', 'unborn', 'illness', 'smoke,', 'crumpled', 'reproduce', 'refuge', 'course', 'compatible', 'operate', \"wife's\", 'pegs', 'london', 'rising', 'alternating', 'vibrates', 'arabs', 'pissoir', 'chains', 'males', 'juxtapositions,', 'scarf', 'undifferentiated', 'libido', 'frontier,', 'caustic', 'forms-the', 'anti-fluoride', 'identities', 'feel', 'quite', 'landed', 'lot', 'fair', 'windows', 'time?', 'age', 'held', 'ocean', 'market,', 'successful', 'irrigation', 'b', 'love?', 'cabin', 'dust', 'enemy.', 'leaped', '\"real', 'days.', 'intestines', 'moldy', 'colonists', 'handful', 'coat', 'clattered', 'blankets', 'buttoned', 'centipede', 'file.', 'panic,', 'sit', 'dropping', 'plate', 'green', 'lean', 'lubricant', 'sessions', 'continuing', 'ruptured', 'combos', 'aliases.', 'sideways', 'court.', 'asleep', 'pullover', 'need,', 'keif,', 'meat.', 'pantopon', 'wires.', 'goods', 'images', 'touching', 'wriggling', 'constant', 'sagged', 'frames', 'visceral', 'st', 'you:', 'house', 'hideous', '\"mr.', '-stop', 'en', 'blocked', 'looks', 'want?\"', 'beds', \"point'\", 'ideal', 'see\"', 'ancient', 'once', 'tits', 'movement.', 'whine', 'protoplasm,', 'clay', 'lead', 'boiling', 'compulsive', 'wallpaper', 'asks', 'overtakes', 'delineated', 'rode', 'cleavage', 'marv', 'magnificent', 'record.', '(female', 'repossessing', 'deck.', 'pacific', 'disciplinary', 'thon', 'tune', 'rented', 'training', 'mine,', 'rustler', 'intense', 'bio-advance', 'pan,', 'ooze', 'pimple', 'simple,', 'explain', 'slate-blue', 'parks', 'vitality', 'line,', 'eunuch', 'air\"', 'application', 'ready', 'helped', 'perkins', 'parasites', 'opportunity', 'festivals', 'inexorable', 'magazine', 'tears', 'ice.', 'pull', 'american', 'achieved', 'sharp,', 'mixture', '\"music\"', 'point,', 'symbiosis', 'pimp', 'conditions,', 'scalpel', 'embassy', 'chlorine', 'opens', 'associates.', 'bug', 'room', 'telescopic', 'wandered', 'cunt,', 'lend', 'fantasies', 'better', 'editor', 'hair,', 'sucking', 'party', 'violently', 'us,', 'home,', 'applies', 'back.', 'undulates', 'effect', 'demonstrated', 'talks', 'outlines', 'arrives', 'staff,', 'rubies', 'gambling:', 'bite', 'consciousness', 'vibrate', 'night,', 'alternate', 'apartment', 'out.\"', 'confined', 'hole.', 'like', 'cell.', 'singer', \"worldly's\", 'demanded.', 'soccer', 'wired', '(to', 'go.\"', 'furniture.\"', 'image.', 'miles', 'development', 'bookie', 'lowered', 'eh?\"', 'buttocks', 'rate', 'fought', 'souls', 'maniac', 'd', 'advice', 'lovers', 'promising', 'mouth,', 'strangling', 'deposited', 'under', 'candle', 'screams,', 'whistles', 'i’ll', 'usa', 'society', 'weaving', 'love', 'case.', 'reject', 'hard-on.', 'plaster', 'mirror-lined', 'intolerable,', 'path', 'viscera', 'just', 'peeking', 'crate', 'fused', 'fucking', \"mary's\", 'writer', 'study', 'before', 'mr.', 'directions,', '-preliminary', 'this?\"', 'somehow', 'immune', 'morning', 'fire', 'suffering', 'regulatory', 'fruit\"', 'simply', 'gristle,', 'license', 'industry', 'gallows,', 'action', 'pushes', 'clom', 'chapter', 'larceny', 'frolic', 'cold', 'monkey', 'planted', 'legion', 'tadpoles', 'hair', 'teeth.', 'shows,', 'island.', 'stagnant', 'irish', 'decayed', 'noted', 'village', 'underwear,', 'intervene,', 'left?', \"one's\", 'butterfly', 'defenses', 'knew,', 'sight.', 'quarters.', 'argument', 'dawn-', 'scissors', 'generous?', 'bray', 'scars', 'style', 'banana', 'platform,', 'pocket', 'attacks', 'arms.', 'anything.\"', 'tasty', 'yours,', 'peeling', 'not.', 'do,', 'tangled', 'lady,', 'city', 'fish', 'berries', 'tomorrow', 'northern', 'high,', 'photo', 'trance,', 'everywhere', 'ruin', 'slowly,', 'seconds', 'addicts.', 'here?', 'vices,', 'dearie,', 'killing', 'whom', 'pete', 'handkerchief', 'recognized', 'jolly', '-\"', 'sea.', 'buenos', 'sealing', 'cocoon', 'key.', 'stink', 'sailor', 'revolver', 'arm,', 'entrance', 'amputates', 'exists,', 'aquatic', 'minute.', 'helping', 'bottles,', \"eel's\", 'half', 'birds', 'insides', 'slithered', 'affect,', 'partly', 'arrange', 'agitating', 'own.', 'overcoat,', 'whorehouse', '49', 'solid', 'steam', 'belt', 'syndrome', 'surfaced', 'sockets', 'sear', 'languid', 'invite', 'glasses', 'machines,', 'cliff', 'motivated', 'mate', 'virginal', 'souvenirs', 'hit', 'utilities', 'famished', 'standing', 'hose', 'partners', 'kasbah?', 'odd', 'tightens', 'honest', 'whyncha?', 'chickens', 'armadillos', 'presented', 'smell.', 'error', 'slot', 'claimed', 'dark', 'zero', 'place', 'ace', 'accumulated', 'pulsed', 'no-smell', 'acquaintance', 'idiot!', 'tenor:', 'tapping', 'crying', 'also', 'armed', 'sickness.', 'shifting', 'ran', 'cuts', 'seas.', 'baby,', 'johnny', 'springs', 'saturn', 'person', 'transparent', 'mustache,', 'terms', 'rites', 'treatment,', 'pause', 'ordered.', 'carrying', 'legal', 'happy', 'veins,', 'rely', 'so.', 'blue?', 'leader', 'pigeons', 'librarian', '\"a', '\"yeah,', \"thing?'\", 'sweet,', '\"yes', 'houston', 'lush', 'benway,', 'scare', \"ventre's\", 'committee', 'monde', 'cases.', 'sources', '-no', 'throwing', 'remained', 'toast', 'university', 'interchangeable', 'boy,\"', 'lion', 'sank', 'pipes', 'regulation', 'deep,', 'cylinder.', 'am', 'nervous', 'ragazzi', 'peculiar', 'two-way', 'explosion.', 'across', 'difficulty', 'composites', 'abyssinian', 'knife,', 'slope', '\"nobody', 'speed', 'clem', 'disguised', 'china', 'bust', 'flash', 'same', 'rubble', 'shiny.', 'bath.', 'feeling', 'drenched', 'dubious', 'express', 'grey-', 'fires', 'ship?\"', 'traumatic', 'worked', 'hallucination.', 'tentative', 'camera', 'awareness', 'pinned', 'distance.', 'incomplete', 'social', 'eyebrows', 'matron', 'citizen', 'return', 'ejaculates', 'sub', 'forward', '64', '1910.', 'joint,', 'river.', 'rope?', 'circulates', 'baths,', 'toe', 'subsidiary', 'uninteresting.', 'floor.', 'thy', 'sluggish', 'spitting,', 'gentlemen,', 'holding', 'slave', 'neither', 'venice', 'buttons,', 'court,', 'goal', 'flooding', 'hey', 'snake', 'havana', 'incredibly', 'prayer', 'spilled', 'punishment', 'amazon,', 'alley', 'dial', 'iam', 'pain.', 'convert', 'ky.', 'subjects', 'find', 'putting', 'trough', 'fully', 'imitate', 'sending', 'example:', 'yes.', 'medium', 'nothing', 'disgusting', 'crazy', 'prevented', 'dank', 'tests', \"medusa's\", 'coastal', 'porter', 'attachments', 'sensations', 'shirts', 'everybody', 'stale', 'whitewash', 'crawl', 'proceeding', 'neat', 'delayed', 'etc.', 'carefully', 'fungus,', 'keys', 'meandering', 'love,', 'dangerous', 'camp', 'oh,', 'caper', 'worms', 'salesmen', 'documents.', 'expense', 'feelings', 'attendants,', 'hospital,', 'voices', 'activity', 'can-can', '40', 'stinger', 'canals,', 'anybody.', 'fear\"', 'sin', 'queen.', 'lurk', 'hitting', 'staying', 'world,', 'obviously', 'admits', 'bitter,', 'rested', 'laughing', 'movement', 'watched', 'burden', 'traveling', 'walks,', 'boards', 'off?\"', '42nd', 'suggest', 'hold', 'predatory', '41', 'canyon', 'fault', 'penises', '\"wise', 'concerned', 'wind-up', 'involved.', 'guayaquil', 'flicker', 'run', 'shadow,', 'workers', 'spasm,', 'harrison', 'crushed', 'rocks.', 'whistle', 'unspeakable', 'sheet', 'death:', 'linguals', 'did.', 'persona', 'division', 'one,', 'name,', 'wreck', 'simultaneous', 'snarl', 'wanted', 'demagnetized', 'sordid', 'winter', 'violence,', 'striptease', 'frog', 'flaw', 'self-abuse', \"earl's\", 'thighs', 'thank', 'boxes.', 'gasoline,', 'drying', 'shrieks', 'use', 'selling', 'fans,', 'laughter.', '\"now,', 'smell,', 'agent.', 'yesterday', 'corseted', 'toothache', \"isn't\", 'prophet', 'kit', 'instant', 'deafening', 'suit', 'apart,', 'turds', 'pubic', 'head:', 'merged', 'faculty', 'blighted,', 'falling,', 'irrational', 'alleviate', 'shivered', \"'i\", 'scandal', 'wildly', 'waved', 'smarting,', 'died', '-the', 'druid', 'heard', 'push.\"', 'overhanging', 'tapes', 'thankless', 'reaction', 'designed', 'pours', 'periscope', 'doomed', 'crown', 'hooks', 'soup', 'filling', 'alters', 'check.', 'priest', 'sailor.', '\"play', 'le', 'molotov', 'dutch', 'bill,', 'convene', 'hairs,', 'angle', '!', 'urine.', 'chip', 'construction', 'insects', 'accepted', 'amorous', 'exact', 'down\"', 'charming', 'some', 'poker.', 'hashish,', 'waves.', '\"none', 'dreamy', 'permutating', 'ice', 'latch', 'decorated', 'english', 'evil', 'one', 'fairy', 'soften', 'gash', 'lunch,', 'throws', 'soda', 'conveying', 'bidet', 'screaming:', '\"mindless', 'cute', 'guess.\"', 'unsanitary', 'collapsed', 'majoun', 'nut', 'legitimate', 'scented', 'notice.\"', 'bastard', 'sipping', 'sores', 'wanta', 'creating', 'tone', 'message', 'supersonic', 'cyclotron', 'plus', '`the', 'right.', 'locate', '\"can\\'t', 'polar', 'hick', 'side', 'faced', 'sticking', 'bodies,', 'panel', 'specimen.\"', 'last', 'gangs', 'thee', 'gutted', '45', 'motion', 'penalties', 'patrols', 'bureau', 'heat,', 'purposes.', 'dawns', 'civilization', 'mind?', 'occur', 'drops', 'woman.', 'sky—', 'rub', 'lagoon.', 'bronzed', 'wife', 'roller', 'speed-up', 'circulate', 'running', 'beating', 'survived', 'us', 'narcotic.', '\"ah', 'leave.', 'sweetness', 'maintain', 'it', 'contacts', 'bullet', 'not?\"', 'aid', 'marked', 'licking', 'backed', 'yapping', 'tomorrow.\"', 'four', 'lizard', 'sulky', 'decimated', 'scrambled', 'retaining', 'of,', 'back:', 'stone.', '\"rather', 'ability', '\"thanks', 'rock', 'together.', 'squad', 'england', 'penny', 'vulnerable', 'abstract', 'drag,', 'multiple', 'stones,', 'intelligent', 'seedy', 'falling', 'increases', 'revived', 'experience', 'language', 'company', 'them?', 'pantless', 'joe', 'science', 'length', 'polish.', 'swamps', 'already?\"', 'disorder', 'whimpered', 'audible', 'bradford,', 'associated', 'rolling', 'antisemites', 'slammed', 'clark', 'filters', 'settle', 'sharply', 'mean,', 'rail', 'give.', 'shrieking,', 'covey', 'tick', 'obvious', 'overgrown', 'cubicle', 'jumping', 'trained', 'accept', 'draped', 'habit', 'wipes', 'passages', 'gentleman.', 'yield', 'contradictions', 'else', '\"i\\'m', \"roy's\", 'wave', 'outfields', 'see?\"', 'openly', 'only', 'junky', 'horse', 'manipulated', 'pants', 'limestone.', 'bar,', 'assholes,', 'wind,', 'laughter', 'squeeze', 'frightened', 'released', 'and:', 'neon-lighted', 'ate', 'activities', 'greatest', 'continuous', 'delights', 'team', 'horns', 'venusian', 'capital', 'strangles', 'lock.', 'engage', 'shits,', 'oaks', 'contestants', 'example', 'root', 'races', 'fucks', '17,', 'programs', 'glass.', 'slag', 'shark', 'juxtapositions', 'dead', 'convenient', 'punch', 'ugliest', 'suction', 'ride', 'gum.', \"what'll\", 'may', 'subsequently', 'mosquitoes', 'hissing', 'well-known', 'trees.', 'fresh', 'world', \"'i'm\", '\"well', 'vast,', 'vampire', 'squirt', 'anyway', 'plant', 'part', 'euphoria', 'other.\"', 'room?', 'coats', 'shrieked', 'boning', 'acceptable', 'represents', \"oxygen'\", 'panting', 'need.', 'dais', 'arrests', 'alone.\"', 'flies', 'non', 'bunk', 'oiled', 'palomar', 'herds', 'arches', 'sorta', 'game', 'gray', 'draws', 'bartenders', 'asp', 'trying.', 'innocuous', 'clear:', 'k9', 'diving', 'operations)', 'once,', 'screamed', 'laws', 'p.m.', 'kerosene', 'great', 'mr', 'hive', 'party,', 'all-around', 'trick', 'carved', 'staggers', 'hooked', 'licks', 'hotels', \"'i'll\", 'vaguely', 'retained', 'whore', 'heated', 'routine', 'pleasant', 'ectoplasm.', 'easy.', 'official', 'capsule', 'ugliness', 'fingers', '\"oh!', 'techniques', 'based', 'm', 'climax', 'kicked', 'thumb', 'prescription.', 'zealand', 'annoyed', 'cards', 'tires', 'difficult', 'shuffled', 'pile', 'christie', 'memories', 'happened', 'energy', 'door.', 'stranded', 'jack.', 'islands', 'rio', 'yourself.', 'immaculate', 'things', 'impersonate', 'accomplished', 'playing', 'charge', 'elementary', 'sky.', 'stiff', 'effect,', 'rail.', 'forget', 'returning', 'contacted', 'cops', 'orgasm.', 'ants', 'useful', 'vaginal', 'bottom.', 'cycle.', 'gives', 'vary', 'understandable', 'taking', 'closet.', 'backward', 'diary', 'countess', 'shrill', 'needle,', 'seemed', 'cellular', 'torso', 'tenants', 'innocence', 'inside', 'reader,', 'fashion', \"'operation\", 'montgomery', 'lexington', 'process,', 'processes', 'swishing', 'browned', 'planet-their', 'interzone.', 'football', 'nonpayment', 'visit', 'masturbate', 'box.', 'disposal', 'poppa', '\"easy', 'aggravate', 'consistency', 'plumbers', 'see.', 'said', 'erogenous', 'without', 'counterfeit', 'insidious', 'harbor', 'bones', 'amputated', '“my', 'pointed', 'score.', 'agent', 'howler', 'bestial', 'rolls', 'hell,', 'opposite', 'battle.', 'hock', 'whistled', 'fungoid', 'snakes', 'rumble', 'bundle', 'away,', 'huntsmen', 'codeine', 'spongy', 'listening', 'hovering', 'window,', 'injured', 'circulation.', '\"are', 'negroes', 'fourteen', 'safe', 'southern', '\"sweet', 'blockade', 'irresponsible', 'sandwich', 'kid.', 'house.', 'hustle', 'chambers', '84', 'sentenced', 'function', 'hate.', 'affect', 'cartwheels', '7', 'progressive', 'ravaged', 'superimposed', 'twelve.', 'disguise', 'ness', 'earth:', 'cylinder', 'bottle', 'transported', 'songs', 'cracked', 'resting', 'wrist', 'casual', 'bum', 'strangle', 'steer', 'immortality', 'filled', 'mister,', 'thing', 'out', 'settled', 'bueno', 'gimmicked', 'almost', 'scratch', 'buildings', 'spain', 'lazily', 'earth.\"', 'away.', 'effectively', 'onolulu,', 'gums', 'in,', 'puff', 'flicked', 'tearing', 'cobwebs', 'billows', 'stump', 'step', 'consequence', 'spitting', 'photos', 'violet', 'draft', 'french\"', 'condoms', 'sheets', 'terminal', 'bear', 'extreme', 'damp', 'anxiety,', 'data', 'why', 'doctor,\"', 'vines', 'lad', 'danish', 'snatched', 'blandishments', 'determined', 'waiters,', 'place?\"', 'posts', 'hotel.', 'circuit', 'store.', 'rally', 'crowd', 'alterations', 'gum', 'vibrated', 'elicit', 'files', 'seeking', 'scans', 'winded', 'pint', 'trapped', 'temple', 'possibly', 'ward.', 'bored', 'gangsters', 'lithe', 'mouth', 'limit', '4', 'dawn.', 'drugstores', 'formations', 'cruelties', 'como', 'hard,', 'no!\"', 'ebbing', 'niño', 'pleasure', 'discovered', 'blue', '\"let\\'s', 'shocking', 'nutmeg.', 'conspiring', \"can't\", 'pictures,', 'frame', 'ibm', 'juanito', 'voice,', '\"horrible', '42', 'pull.', 'necessary?', 'hemorrhoids', 'of.', 'spun', 'rotting,', 'accumulate', 'extent', 'uncle', 'suit,', 'painters', 'engaged', 'candy', 'adding', 'tarzan', 'markets', 'year', 'arabesques,', 'locates', 'belch.', 'packs', 'shambles', 'except', 'yells', 'oyster', 'beef', 'could', 'morphine', 'keeping', 'solicit', 'light,', 'kisses', 'restaurant', 'walk.', 'fast', 'x', 'events', 'dreamed', 'chin', 'realize', 'acts', 'fighters', '\"they', 'da', 'hall.', 'rushed', 'liver,', 'detention', 'ropes', 'galaxy', 'showing', '(never', 'funnel', 'said.', 'below', 'dollars', 'conditions.', 'door,', 'space', 'negatives', 'preparing', 'effected', 'prosaic', 'resort', 'tenement', '\"errand', 'water', 'bet', 'barbara', 'uncertainty', 'wan', 'negation', 'blight', 'vibration', 'impersonation', 'sacred', 'members', 'glittered', 'spot', 'receiving', 'tea', 'threat', 'cigarette', 'blazing', 'chicago.', 'seeping', 'unfit', 'fog,', 'absorbed', 'stellar', 'working', 'firstest', 'product', 'left.', 'position,', 'honor', 'gimmick.', 'blacked', 'health', 'main', 'becomes', 'occupants', '19', 'neck', 'station', 'eat', 'phenomenon', 'villages', 'move', 'winner', 'injury', 'concern', 'trees,', 'fact,', 'cord', 'fast,', 'eyes.', 'female', 'ramadan', '31', 'touch.', 'comes', 'synthetics', '12', 'colors', 'shoved', 'nasty.', 'ambiguous', 'popping', 'communication', 'technique', 'howl', 'braille.', 'symptoms', 'broadcasts', 'jumped', 'gain', 'rocks', 'suspended', 'ending', 'barn', 'differently.', 'so', 'rush', '...', 'spot.', 'evenings', 'economic', 'hammocks,', 'insulin', 'sighs', 'hairy', 'behind.', 'intolerable', 'take', 'removal', 'whipping', 'veins', 'weapon', \"they'll\", 'melts', 'exploded', 'twitch', 'beer', 'orchid', 'pits', 'coffee.', 'seen', 'mother,', 'purple', 'stepped', 'audience', 'hut', 'abject', 'worker', 'jars', 'deported', 'flies.', 'holder', 'hospitals', 'son.', 'sirens', 'age.', 'proud', 'can.', 'drum', 'angles', 'blind', 'worst', 'idea', 'born', 'assignment', 'obsidian-handled', 'wealth', 'set.', 'registered', 'address\"', 'arc', 'forward.', 'curb', 'h', 'somewhat', 'shattered', 'money', 'companion', 'crowded', 'lighting', 'dry,', 'something', 'colleague.', 'drank', 'face.', 'market.', 'peoples', 'per', 'spectators.', 'wherever', 'understand.\"', 'double', 'balls', 'figure.', 'jock', \"man's\", 'shirt', 'external', 'delegates', 'operates', 'personality', 'reeks', 'nodded.', 'short-time', 'fjords', 'returns', 'soviet', 'author', 'tangle', 'scotch', 'twins', 'la', 'everyday', 'walled', 'hear', 'nigras', 'me.”', 'smiling', 'portentous', 'obscure', 'champagne', 'letter', 'dodging', 'lynch', 'defective', 'ask.', 'digest', 'basically', 'humiliations', 'dishonest', 'paying', 'tons', 'antennae', 'distant', 'however,', 'half-in', 'urgency', 'consuming', 'smoked', 'lemurs', 'writ', 'are,', 'separate', 'hieroglyphs', 'inflexible', 'massage', 'snaps', 'stacked', '\"yeah', 'writhing', '\"if', 'stinking', 'wire.', 'shacks', 'matter,', 'capacity', 'rotten', 'building', 'apomorphine', 'functioning', 'at', 'violence', 'decided.', 'playback', '(boat', 'talk,', 'groin.', 'floor', '\"sometimes', 'movies,', 'plaid', 'sane', 'brothers', 'downright', 'purposeful', 'brain,', 'script', 'dear,', 'sun,', 'adobe', 'liver.', 'lonely', 'madrid', 'always,', 'crackle', 'conversations', 'drinks', 'predated', 'clamped', 'apes', 'typewriter,', 'entry', 'classic', 'hospital', 'accepting', 'tested', 'sensitivity', 'floating', 'answered:', 'malaria', 'thin-faced', 'beckon', 'knot', 'unworkable', 'singed', 'left', 'reproduces', 'full-time', 'noises', 'rasp', 'links', 'foe', 'climbing', 'thick', 'accents', 'soapy', 'robert', 'attached', '22', 'year.', 'square', 'borrow', 'shutter', '.\"', 'sour', 'faint', 'games,', 'stoned', '\"could', 'rides', 'flub', 'missing', 'upset', 'penetrated', 'expeditions', 'ones', 'goats', 'gorged', 'light?', 'youth,', 'apparent', 'incredible', 'cleared', 'balls.', 'spine.', 'insane', 'turkish', 'nationalist', 'sunlight', 'brother?', 'expecting', 'procuring', 'began', 'wound', 'bridge', 'forth,', 'lush-workers', 'spirits', 'words', 'travel', 'rain', 'skeleton.', 'smoking', 'mesh', 'careful', 'you?', '\"some', 'flows', 'mike', 'folded', 'writing.', 'specks', 'cutting', 'fruit.', 'disaster', 'everyone', \"they've\", 'stem', 'lane', 'otherwise.', 'lens', 'dignity.', 'leads', 'hepatitis,', 'jane', 'slopes', 'remains', 'press', 'dicky', 'ourselves', 'clap', 'mangled', 'twang', 'protest.', 'chest.', 'thinking,', 'asshole', \"sultan's\", 'striped', 'neighborhood', 'voluntary', 'conjures', 'september', 'sister', 'difficulties', 'lightning', 'officials,', 'normal', 'grabbing', 'dream,', 'tried', 'establish', 'boots', 'elbows', 'here.\"', 'global', 'bullshit.', 'screens', 'pinpoint', 'unattractive', '37', 'smoking.', 'stories', 'intensive', 'loosen', 'fist', 'abdominal', 'mister.', 'believe', 'ejaculating', 'swarm', 'bubbles,', 'again', 'fat', 'shag', 'presence', 'kill,', 'food', 'said,', 'provide', 'unnoticed', 'obey', 'metal,', 'on,\"', 'writer.', 'plucking', 'comrade', 'spine', 'delinquent', 'system.', 'clear,', 'skies', 'necks', 'rimmed', 'first.', 'court', 'ground,', 'dilapidated', 'epidemic', 'snide', 'grace', 'performance', 'crisp', 'recorded', \"copper's\", 'wising', 'rome', 'caked', 'penetrating', 'strapping', 'leif', 'doom.', 'entity', 'burlap', 'shoes,', '\"will', '\"we\\'ll', 'plaza', 'survive.', 'whining', 'someone', 'sacrifice', 'steps', 'aged', 'flapping', 'yacks', 'experienced', 'nothing.', 'buckling', 'vomiting', 'unless', 'should', 'crime,', 'former', 'present', 'contempt', 'mob', 'woods', 'timers', 'i?', 'zen', 'centipede.', 'coat.', 'recourse', 'color', 'air', 'waited', 'positions', 'key,', '-not', 'trust', 'chairs,', 'hostile', 'lieutenant', 'fitted', 'self', 'office,', 'mats', 'contraction', 'festival', 'behavior', 'juice.', 'opponent', 'files.', 'created', 'stretched', 'what?', 'sweat', 'figuring', 'appreciable', 'thought.', 'business.', 'cubicles', 'piano', 'grinding', 'cia', 'tendril', 'exuding', 'medical', 'defeat.', 'deepest', 'prurience', 'calculating', 'overdose', 'twelve', 'bones,', 'nods', 'ra', 'resigned', 'smooth', 'peck', 'curved', 'percent.', 'impose', 'tissue', 'danger.', 'babies', 'clang', 'ventriloquist', 'leaders', 'guns.', 'mister', 'planet:', 'already,', 'addict', 'regulate', 'french', 'pocket,', 'climb', '1:', 'seconds.', 'gun,', 'copy', 'cover', 'others', 'powerful', 'paralyzing', 'sparks,', 'sad-eyed', 'odors', 'client', 'transfixed', 'deal.', 'crustacean', 'divide', 'pane', 'heads', 'japanese', 'started', 'looted', 'mushrooms', 'mighty', 'hopes', 'aware', 'mongolian', 'switch', 'burnt', 'butter', 'stop', 'corridors', 'canals.', 'wall,', 'muttered', 'mostly', 'tuck', '\"on', 'washes', 'controller', 'chapultepec', 'board.', 'fear.', 'drag', 'empty', 'wind', 'drugstore', 'cells.', 'curse.', 'chair', 'squealing', 'loving', 'cut,', 'alive', 'literally', 'hard', 'circular', 'hearts', 'here,', 'unreadable', 'withdrawn', 'newsprint', 'parts.', 'platforms', 'hide', 'develop', 'planting', 'points', 'wised', '(one', 'wells', 'metallic', '27', 'shucks,', 'classy', 'burnished', '\"put', 'laundry', 'explosive', 'dependent', 'conceive', 'look', 'delight', 'center.', 'open.', 'intervals', 'paths', 'think,', 'soft', 'seized', 'corresponds', 'boredom', 'dawn', 'occasional', 'sally', 'bad', 'faulty', 'perils', 'leaf', 'contacts,', 'indignant', 'hunger,', 'margin', 'collaborators', 'asked', 'shredded', 'who', 'dislike', 'caused', 'cowboyed', 'brick', 'boys,\"', 'messages', \"weren't\", 'alternative', 'patient', '\"where', 'space-time', 'peeled', 'spasms', 'accounting,', 'moment', 'gratitude', 'carnal', 'understand.', 'stop.', 'tilted', 'reads', '“quiet', 'weilest', 'cigarette.', 'destroy', '\"o\\'er', 'firm', 'arcade', 'more,', 'file', 'drawing', 'alien', 'closest', 'dig', 'writing', 'programs,', 'orgones.', 'flying', 'shifted', 'enough.', 'joint', 'agencies', 'growing', 'lately.', 'sneaking', 'put', 'cotton', 'goosing', 'ousted', 'prominent', 'function,', 'nigger.', 'code', 'cloth', 'winked', 'locks', 'mister?', 'days,', 'inaccessible', 'subsequent', 'fixers', 'punching', 'drinking', 'mescal', 'different', 'effects.', 'recovered', 'brittle', 'lot.', 'motionless', 'using', 'search', 'insoluble', 'twice', 'nightmare', 'flannel', 'mills', 'humiliating', 'aside', 'thumb,', 'writes', 'muscle.', '-a', 'lie', 'accompanied', 'therefore', 'unload', 'sprouts', 'mountain', 'sent', '(when', 'infinite', 'what?\"', 'hesitation', 'inherit', 'president', 'skewer', 'reich-', 'eels', 'between', 'aggravated', 'society.', 'hurt', 'face', 'clouds,', 'tight', 'such', 'afraid', 'witch', 'little', 'sewed', 'alcohol,', 'whimper', 'hard-faced', 'driver', 'surround', 'arms', 'way.\"', 'accelerated', 'orgone-like', 'yen', 'color,', 'remember,', 'portico', 'skid', 'rag', 'feller', '\"otherwise', 'breaks', 'crystal', 'alcohol', '\"only', 'visitor', 'know.', 'student', 'models', 'y', 'adult', 'time!\"', 'another,', 'america.', 'automatically', 'folks,', 'shores', 'turnstile', 'signal', 'washington', 'stole', 'oxygen', \"hangman's\", 'small', 'tide', 'not,', 'blocks', 'liberates', 'breath', 'statues', 'produce', 'watch', 'practically', 'fadeout', 'disappeared', 'try', 'cutlass', 'why,', '&', 'built-in', 'apomorphine.', 'universe', 'south', 'bought', 'ham', 'glands', 'dead-end', 'pleasantries', 'twisting', 'inherent', 'excitement', 'syrups', 'albatross.', 'touched', 'molten', 'meat', 'fluoroscopic', 'any', 'smile,', 'avenue', 'responsible.', 'show.', 'contempt.', 'dahling,', 'fragments', 'ticker', 'inject', 'limestone', 'corners', 'clad', 'is:', 'making', 'protest', 'interesting', 'grass', 'men,', 'urn', 'action,', 'rules', 'inner', 'driving', 'stabbing', 'angeles', 'accrete', 'blades,', 'understand,', 'taken', 'carries', 'plastic', 'liquefactionist,', 'suitcases', 'appointment', 'dirt', 'exploding', 'swept', 'inhabitants', 'oklahoma', 'question,', 'scandalized', 'assimilated', 'floated', 'dispersed', 'brindle-faced', 'ticket', 'boy', 'conspiracy', 'pithyathed', 'sew', 'vultures', 'side,', 'revealed', 'shoeshine', 'bad.', 'david', 'sure', 'gleaming', 'tore', 'l', 'many', 'perfected', 'contained', 'ribbon', 'electronic', 'counter', 'piranha', 'middle', 'mummy', 'hound', 'did', 'mccoy.', 'purpose', 'positively', 'walked', 'sputtered', 'reflected', 'possession', 'pour', 'considering', 'short.', 'distribute', 'adulterated', 'issue', 'yage', 'back?', 'partisans', 'shot,', 'scraps', 'music.', 'radium', 'name.', 'lives,', 'widow', 'pantomime', 'station,', 'support', 'cup', 'changed', 'rubbing', 'smeared', 'idiot', 'ignorant', 'trembling', 'sergeant', 'tossed', 'maid', 'bodies.', 'ozone', 'injected', 'interstellar', 'condition.', 'lives.', 'know', 'mutandis', 'sabbah:', 'alabaster', 'partially.', 'bronx', 'write', 'laughing.', 'doctor.\"', 'done', 'bled', 'array', 'sweater', 'reversed', 'attractive', 'hiatus', 'too', 'physician', 'westerns', 'leg', 'unappetizing', 'purge', 'pitchman', 'goofed', 'amusement', 'enough', 'opportunely', 'genitals', 'administer', '\"land', 'frost', 'commercial', 'army', 'ink', 'gases', 'machine-gun', 'jacket.', 'cocaine', 'gin', 'suppose', 'begins', 'fight', 'victim.', 'incision.', 'flipped', 'drugs,', 'kingdom', 'pearl', 'wittgenstein', 'universe.', 'venetian', 'sways', 'authorities', 'for', 'likes', 'years.', 'elbow.', 'invented', 'agony', 'register', 'red', 'cents', 'physiological', 'droppers', 'cream', 'field.', 'smoothed', 'wouldn’t', 'gotta', 'greased', 'rope,', 'stared', 'arch', 'stark', \"lee's\", 'ass?', 'arena', 'stream', 'round,', 'intercept', 'strangers', 'hispano', 'jelly.', 'waits', 'colored', 'pleasure,', 'gear', 'routines', 'schizophrenic', 'whose', 'pleasure.', 'witness', 'miss', 'hash', 'retreats', 'checks', 'allah.', 'sometime', 'saga', 'explosion', 'cane', 'dingy', 'lavatories', 'shock', 'site', 'kid,', 'bulldozers', 'line', 'harry', 'impunity', '(who', 'waiters', 'seize', 'rage,', 'forward,', 'clients,', 'kansas', 'fast.', 'nameless', 'needle', '48', '(maybe', 'periodically', 'cool,', '\"last', 'screwing', 'incipient', 'rioters', 'poor', 'lottery', 'judge:', 'museum', 'relations', 'obsessed', 'ahead', 'synthetic', 'noses', 'stated', 'horrors', 'emptied', 'basement', 'nurses', 'conflicts', 'ford', 'knew', 'police.', 'served,', '\"cut', 'consumed', 'flak', 'excrement', 'negation.', 'stranger.', 'statement', 'balloon', 'stucco', 'there.\"', 'venusians', 'silence,', 'assume', \"we'd\", '\"throw', 'collar', 'penetrate', 'speak', 'here,\"', 'dressing', 'faster,', 'magnetized', 'clothes', 'technician', 'journal', 'disability', 'cave.', 'barbarous', 'deliver', 'sporting', 'together,', 'elevator.', 'long,', 'father', 'plane,', 'boy!', 'cabinet', 'creature.', 'amok', 'setup', 'diddle', 'impaled', 'holland', 'joselito', 'getting', 'pipes,', 'sensitized', 'bolts', \"candiru's\", 'lapse', 'partner', 'psychosis', 'stages', 'laundry.', 'stove.', 'smelling', 'accent', 'bill?\"', \"men's\", 'lap', 'others.', 'blue-eyed', 'roofs', 'word,', 'viruses', 'whole', 'mugwumps', 'turn.', 'nothing?', 'encounters', 'worthy', 'one-quarter', 'rat', 'devised', 'bustle', 'napkin', 'cliffs', 'suck', 'windy', 'existence', 'samovar', 'lesson', 'mornings', '\"really,', 'elder', 'h.', 'relegated', 'immortal', 'story', 'claws,', 'notes', 'slides', 'helpless', 'off,', 'distasteful', 'political', 'listen', 'governess', 'meeting', 'ii.', '!\"', 'ends', 'yelling', 'gelatinous', 'americans', 'recorder', 'speed.', 'bubble', 'specialize', 'alertness', 'traction.', 'panels', 'cheer.', 'busy', 'sniffed', 'table', 'sickness', 'that,', 'to', '97', 'being', 'buried', 'master', 'certainly', 'collapse', 'lift', 'dolls', 'disintegrated', 'deeper', 'ersatz', 'were', 'desperately', 'bit', 'entirely', 'oily', 'suffocation', 'wait.', 'says:', 'basis.', 'loose?', 'straighten', 'paradoxically', 'minraud.', '(his', 'slobbering', 'recommend', 'streak', 'chair,', 'overloaded', ',', 'switch-', 'ivory', 'lobby', 'crisscrossed', 'buzzes', 'clear', 'connection.', 'it?', 'curl', 'informer', 'reptile', 'fish.', 'lavatory.', 'aftosa', 'cars.', 'tongues', 'mist.', 'shaft.', 'wards', 'bridges', 'void', 'this.', 'you.\"', 'good', 'cart', 'forehead', 'honey', 'fm', 'folk', 'interval', 'hyp', 'cancerous', 'lucy', 'clawing', 'emerges', 'sake', 'requested', 'scream', 'cautiously', 'ballet', 'pie', 'hyacinths', 'missouri', 'compelled', 'pricks', 'face:', 'painter', 'caliber.', 'cooking', 'seed', 'crippled', 'softly', 'off', 'sloped', 'wash', \"gysin's\", 'dim', 'cannot', 'lovemaking', '\"remember', 'intimidate', 'nova,', 'typical', 'marble', 'by.', 'massage,', 'false', 'needs', '\"turn', 'los', 'elastic', 'trousers', 'garden—the', 'grey', '\"death', 'steel', 'shoulder,', 'ants.', 'plant.', 'truck.', 'free.', 'stops.', 'silk', 'wrong.', 'lobbies', 'venus.', 'see?', 'deltas', 'scale', 'melting', 'rat,', 'important.', '\"for', 'crabs', \"that's\", 'tribute', 'organic', 'upon', 'babies,', '\"bill,', 'nostalgia', 'meanwhile', 'reels', 'mention', 'fortune', 'firing', 'ago.', 'doctor.', 'meaning.', 'greedy', 'male', \"you're\", '\"by', 'clams', 'pointing', 'thief', 'drifts', 'icy', 'officers', 'closets', 'partial', 'die.', 'enlighten', 'crushing', 'page', 'unnatural', 'fissure', 'indians', 'flow', 'nights', 'movie', 'horse,', 'dips', 'jostling', 'velvet', 'suit.', 'empowered', \"we'll\", 'oldest', 'prods', 'guess', 'tv', 'lake', 'overt', 'occurs.', 'slid', '\"good', 'that.', '10', 'with:', 'reputation', 'wagons', 'which,', 'intercourse', 'done.\"', 'frenzied', 'dollars,', 'construct', 'weight', 'massive', 'bed?', 'escapes', 'undulate', 'gate', 'cook', 'felt', 'technicians', 'board', 'expanding', 'life,', 'forty,', 'powers.', 'else,', 'e', 'hunting', 'bob', 'smell', 'failed', 'suburban', 'tolerate', 'places)', 'pregnant', 'undress', 'low-pressure', 'observe', 'telepathine', 'off!\"', 'fliday.', 'stained', 'm.', 'works', 'blood?', 'account', 'zone.', 'frieze', 'thanks', 'scarlet', 'actions', 'bureaucrats', 'lunar', 'formed', 'psychotic', 'form,', 'course)', 'monopolize', 'member', 'shoots', 'checking', 'sex,', 'warnings', 'coy', 'close', 'fag,', 'dealing', '“nothing', 'corrupted', 'practiced', 'bench,', 'tracks', 'orleans', 'bugger', 'driven', 'rear,', '121', 'connection', 'all,', 'fix', 'desert', 'cocks', 'hypothalamus,', 'glimpse', 'retroactive', 'quarters', 'healthy', 'cartilage', 'dress', 'regret', 'desirable', 'venereal', 'carriers', 'months,', 'falls.', 'mean', 'vision', 'prime', 'mexican', 'mattress', 'rapid', 'am.', 'him:', 'operations', '\"things', '44', 'drink.', 'works,', 'party.', 'hudson', 'broken.', 'cab', 'plaintive', 'gently,', 'egyptian', 'muttering:', 'airport', 'tension', 'jovially', \"tony,'\", 'elaborate', 'mail', 'elsewhere', 'persistent', 'everybody.', 'formaldehyde.', 'gysin', 'sitting', 'blowing', 'threw', 'lounge', '14', 'hairless', 'approved', 'swelling', 'presidents', 'cab.', 'copulate', 'speeded-up', 'beaver', 'wrote', 'grand', 'preparation', 'dropper', 'table.', 'conscious', 'tube', 'knife', 'empty.', 'crawling', 'into', 'vice', 'connect', 'smoldering', 'can’t', 'naked', 'brandishing', 'grow', 'young', 'rural', '-and', 'accident.', 'copies', 'ape', 'ear.', '\"in', 'machinery', 'utterly', 'clock', 'curled', 'rest.', 'bared', 'eyecup', 'street,', 'documents', 'absent', 'trouper', 'settling', 'degrees', 'keeps', 'channels', 'haunted', 'kaleidoscope', 'neck.', 'wore', 'expert', 'man,', 'jack-off', '...\"', 'suspected', '\"above', 'hearing', 'film.', '\"hold', 'o.k.', '666', '(sound', 'spine,', 'hunger', 'wise', 'forms', 'benny', 'drifted', 'dropper,', 'road', 'saw', 'animals', 'f.', 'dallas', 'cancerous,', 'fifth', 'stashed', 'operating', '29', \"'it\", 'florist', 'scientific', 'would.', '\"much', 'muscle,', 'ass.', 'option', 'tier', 'cock', '-smaller', 'pinch', 'rushes', 'touch', 'fragmentary', 'woman', 'ears', 'there\"', 'consul', 'continent', 'weakness', 'toenails', 'soldier', 'background', 'juggling', 'usual', 'shall', 'click', 'think', 'shrinking', 'effort', 'half-healed', 'shit.', 'birth,', 'undersea', 'order', 'light-', 'focusing', '\"why', 'banks', 'shut', 'me!\"', 'owe', 'endless', 'approached', 'swallow', 'immediately.', 'commission.', 'bill?', 'tribe', 'character.', 'disgusting.', 'pathos', 'involving', 'twin', 'that?', 'nailed', '\"maybe', 'muffled', 'ended', 'brown,', 'coins', 'says,', 'gown', 'fats', \"crab's\", 'monroe', 'undergone', '-there', 'begging', \"'now,\", 'counts', 'protoplasm', 'hardened', 'peoria', 'hauser', 'squeak', 'cutest', 'j.', '--', 'tray', 'silent,', 'when,', 'snapped', 'giving', \"'now\", 'forced', 'orders.', 'prop', 'a.j.', 'clasped', 'facilities', 'zero.', 'barracks', 'lily', 'chance', 'well.', 'junkies,', 'operation,', 'deserves', 'executions', 'jerk', 'results', 'open', 'window.', 'pairs', 'guy', '(a', 'damage.', 'bird', 'mix', 'writhes', '\"going', 'religious', 'son,', \"let's\", 'time', 'junk.', 'willy', 'delta', 'clicks', 'conditioning', 'child.', 'shanty', 'duties', 'number', 'café', 'ceiling,', 'vaults', 'core', 'gondola', 'smoke.', 'comics', 'dane', 'knees,', 'plenty', 'desires', 'iron', 'like?', 'assembly', 'patterns', 'w.', 'remain', 'add', 'steaming', '\"was', 'bar', 'shabby', 'ether', 'seared', 'cables', 'bash', 'innocent', 'post', 'canals', 'obedience.', 'paralyzed', 'circumcise', 'exclusive', 'bradshinkel,', 'epilepsy', 'needing', 'revolves', 'purpose.', 'copped', 'juke', 'country,', 'rats', 'feelings.', 'consider', 'banner', 'half-assed', 'sexual', 'vitamins', 'nickel.', 'outside', 'jungles', 'shortwave', 'belong', '71', 'there', 'welfare', 'posture.', 'folding', 'slamming', 'mutilated', 'jar.', 'general', 'dispense', 'clothing', 'child', 'bath', 'family', 'oven', 'shaking', 'absence', '60', 'nuzzles', 'laboratory', 'spotlights', 'beautiful', 'darling', 'catapult', '20', 'rags', 'start', 'graceless', 'times', 'hats', 'mates,', 'paper,', 'notorious', 'eye', 'chinchilla', 'habit.', 'straw', 'enclosed', 'sphere', 'piles', 'searching', '\"won\\'t', 'pretentious', 'brief', 'disembowel', 'instigated', 'disgust.', 'killer', 'jacking', '12,', '\"stand', 'observed', 'groin', 'position.', 'pat', 'fairly', 'white', 'plains', 'perfect,', 'stubble', 'drew', 'lying', 'melon', 'excuse', 'kinda', 'goof', 'slip', 'simpering', 'carnival', 'brave', 'ii', 'required', 'crowned', 'farting', 'wakes', 'feller.', 'bicycle', 'stupid,', 'filth', 'effect.', 'hamstring', 'knowing', 'con.', 'literal', 'stomped', 'late', 'they', 'united', 'podunk', 'con?', '66', 'tidal', 'operated', 'shed', 'fever.', 'peering', 'car,', 'corrupt', 'monkey-like', 'rained', 'close,', 'nipples', 'revealing', 'shipping', 'speaking', 'manufacture', '11', 'juxtaposition', 'spasm', 'tattoo', '-like', 'bureaucracy', 'globe', 'koch', 'countries.', 'forces', 'cells', 'incandescent', 'sir', 'hips', 'assigned', 'clothes,', 'inexperienced', 'dose', 'identity.', 'cautious', 'over', 'nuclear', 'stick', 'miasma', 'clean.', 'heavens,', 'tied', '\"man', 'rubbly', 'ammonia', 'route', '63', 'shitty', 'sail', 'describe', 'whistling', 'ranks', 'crescendo', 'dietary', 'straight,', 'right,', 'cherry', 'base', 'screaming.', 'genuine', 'junk,', 'yawned.', 'heal', 'hyphenated', 'shiver', 'protected', 'frontier.', 'me?\"', 'shitola', 'criminals', 'awakened', 'trouble', 'store', 'strata', 'home', 'swollen', 'rap', 'legs,', 'awkward', 'will,', 'cats', '34', 'vaseline', 'endearing', 'serious', 'scream:', 'lit', '\"i\\'d', 'diarrhea', 'breathing', 'rockets', 'string', 'turn', 'strike', 'jockstraps', 'abolition', 'spit', 'rhythmic', 'desk', 'pain,', 'hypothalamus', 'artists', 'determines', 'newt', \"boy's\", 'venus', 'knife.', 'inspectors', 'milk,', 'broken', 'cultures', 'tape', 'rectum', 'nowhere.', 'rind', 'purchases', 'vases', 'antibiotics', 'eddies', 'pearls', 'privy', '\"word', 'banners', 'him,', 'clients.', 'squeezing', 'blues', 'dog,', 'rammed', \"purser's\", 'giggling', 'watering', 'three-dimensional', 'fee', 'exercise', 'after', 'rivers', 'boys?', 'smiled.', '90', 'chocolate', 'processing', 'entail', 'crop', 'goods.', 'considered', 'towards', 'hosts', 'believed', 'precariously', 'joke', 'toothpaste', 'occidental', 'nordic', 'brooklyn', \"woman's\", 'golf', 'signed', 'performing', 'dumb', 'assignments', 'swirled', 'spinning', 'chucks', 'screen.', 'club.', 'toilet.', 'dwarfs', 'permutate', 'tinkling', 'closed', 'streets', 'kissed', 'flood', 'swaying', 'calloused', 'destroyed', 'havoc', 'perform', 's.', 'dawns,', 'details', 'practices,', 'armadillo', 'notebooks', 'respiratory', 'bows', 'nasty', 'busted', 'dissolved', 'food.', 'shooting', 'him?\"', 'beat', 'belles', 'liz.', 'cruelest', 'damned', 'english.', 'relief', 'spots', 'vitiate', 'days', 'gorge', 'tilt', 'carbonic', 'check', 'drug,', 'fills', 'customers,', 'summer', 'specially', 'nose.', 'passed', 'access', 'staff', 'rustle', 'meant', 'appear', 'tropical', 'mathematical', 'slump', 'necessities', 'fence', 'prolonged', 'faggots', 'people.', 'rube', 'about.\"', 'delay', 'business', 'masturbation', 'gurgle', 'orient', 'subliminal', 'cat.', 'attacking', 'twist', 'approach', 'drain', 'bleeding', 'great,', '\"i\\'ve', '\"no', 'ribbons', \"who's\", 'encountered', 'sir.', 'woe', 'tie', 'pestilent', 'intense,', 'spatter', 'trak', 'hook', 'her', 'roof.', 'maine', 'drummed', 'on:', 'appears', 'women', 'crisis', 'cement', 'from', 'meet', 'lover', 'torture', 'sharpened', 'uterine', 'cunts', '81', 'tremendous', 'controlling', 'sewers', 'high', 'offering', 'checked', 'sticky', 'threaten', 'clicking', 'different,', 'sags', 'lungs', 'slowed', 'short-change', 'pack', 'routine.', 'melodious', 'story.', 'metal.', 'black-assed', 'gum-chewing', 'executive', 'tries', 'sheriff.', 'shone', 'poses', 'murders', 'mambo', '\"no,', 'shrunk', 'orgone', 'cried', 'leafed', 'favorite', 'maybe', 'learning', 'shell', 'but', 'reporter', 'organism.', 'flees', 'studio', 'heavy', 'attendant', 'taps', \"couldn't\", 'eye,', 'row', 'rigged', 'france', 'wheel,', '(which', 'breeze', 'progress', 'k9,', 'understand', 'exhibit', 'drunk', 'office', 'perforated', '\"', 'spurt', 'hand', 'stain', 'cutting.', 'creation', 'lightly', 'black.', 'it.', 'pursuit', 'individual', 'authority', 'kiki.', 'stone', 'glanced', 'glorious', 'surprising', 'croaker', 'hatch', 'occupation.', 'accidents', 'streets.', '\"my', 'drag.', 'blue,', 'guns?', 'fact', 'besides', 'project', 'surviving', \"'of\", 'loud,', 'quietly', 'shop.', 'watchman', 'misty', 'rings', 'theatrical', 'unfortunately', 'nagasaki', 'among', 'led', 'jacket,\"', 'control', 'monopoly', 'schultz', 'draw', 'soot', 'up.\"', 'contractions', '\"show', 'home.', 'explained', 'fan', 'trace', 'have', 'hotels,', 'pay.', 'before.', 'slowly', '\"is', 'forever.', 'committed', 'cocks.', 'existed', 'bradshinkel', 'process.', '\"so', 'bull', 'saint.', '\"total', '33', 'hypo', 'alcohol.', 'comfortable', 'throckmorton', 'stones', 'spangled', 'semen', 'dotted', 'sprouted', 'grafted', 'saws', '\"may', 'trestle', 'monster', 'orders', 'slow,', '(flickering', 'progressively', 'twitched', 'kurds', 'extended', 'yes\"', 'weather', '\"and', 'corner', 'ghosts', 'finger.', 'sloppy,', 'howling', 'runners', 'opening', 'opera', 'expensive', 'narcotics', '1920s', 'funeral', 'dead.', 'note', 'strange', 'to,', 'plates', 'whereby', 'ovens.', 'back,', 'energies', 'noise', 'crotch', 'lions', 'emotion,', 'qui', 'crimes', 'treating', 'killer,', 'package', '87', 'gas', 'hairs.', 'repeated', 'soiled', 'expects', 'curses', 'approaching', 'maudlin', 'resistance', 'so?', 'limited', 'result', 'yell,', '\"shut', 'porcelain', 'about', 'electrician', '\"oh', 'objectives', 'douche', 'benches,', 'auca', 'plants', 'capri', 'end,', 'equipped', 'sound,', 'last,', 'now?', 'worms.', 'old,', 'all', 'pale', '5', 'consensus', 'knock', 'sunken', 'phallus', 'affection', 'premises.', 'smoke', 'holy', '`sammy', 'scream.', 'mattress,', '-just', 'farm', 'grease', 'alone,', 'experiment', 'breed', 'wide', 'stuff.', 'flee', 'steam,', 'groups', 'peritonitis', 'impersonal', 'device', 'capable', 'bits', '(like', 'old.', 'difference', 'outraged', 'bog', 'farmer,', ')', 'hilt', 'fierce', 'types', 'fountains', 'carl.', 'spread,', 'hoodlums', 'motions', 'inhuman', 'them.', \"grandmother's\", 'disconnected', 'pathic', 'herr', 'examined', 'odds,', 'overlooking', 'organ', 'finance', 'drugs', 'substances', 'chi', 'current', 'exactly?', 'patients', 'short', 'jellaba', 'husband', 'strapped', 'law', 'substance.', 'stabbed', 'eccentric', 'phantoms', 'webs', '46', 'outside,', 'body.', 'turns', 'translucent', 'dismissed', '\"pay', 'print', 'slept', 'go.', 'command', 'pops', 'south,', 'anyone', 'wrapping', 'slim', '\"boss,', 'glass,', 'iris', 'casita', 'belches', 'poison.', 'mortality', 'address', 'gave', '\"don\\'t', 'paris', 'want', 'silently', 'content', 'lavatory', 'shifts', 'suffer', 'balancing', 'sticks', 'joy', 'catholic', 'identification', 'say?', 'silent', 'deterioration', 'expand', 'reached', 'parted', 'roar', 'moans', 'adjourn', 'future', 'unto', 'leather', 'it:', 'constantly', 'decay', 'thistles', 'shit', 'vines,', 'hawk', 'arching', 'jackets', 'answer,', 'assuming', 'castrators', 'sea', 'presume', 'reactions.', 'discharge', 'twisted', 'jack', 'breakfast', 'ghost', 'flame', 'sharks', '-', 'me?', 'limestone,', 'decided', 'regard', 'kissing', '83', 'towel', 'lawn', 'exercises', 'porticoes', 'now.\"', 'stations', 'iron,', 'angels', 'scarred', '7,', 'disk.', 'immediate', 'swamp', 'straws.', 'answering', 'tanks.', 'vest', 'react', \"they're\", 'gonna', 'lunch', 'parts,', '\"well,', 'hollywood', 'sick,', 'flashed', 'paul', 'stains', 'hairs', 'cocksucker', 'glasses.', 'either', 'sewage', 'won’t', 'ashes', 'honky-tonks', 'vulture', 'times,', 'cubicles,', 'cannabis', 'poured', '2', 'slapped', 'blocking', 'hassan', 'ruffles', 'sparks', 'damage', 'left.\"', 'inactive', 'panorama', 'cries.', 'portable', 'whisper', 'boys:', 'pound', 'fags', 'quiet', 'from?', 'flickers', 'trip', 'wants.', 'cafe', 'pensive', 'beeg', 'displaced', 'those', 'cowboy', 'negligible', 'spectators', 'doubled', 'brains', 'honey.', 'candiru', 'johnny.\"', 'dean', 'metabolism', 'huddled', 'carbide', 'skeleton', 'cars', '94', 'suburb', 'plunge', 'gambol', 'catwalks', 'bearded', 'liquidated', 'april', 'flop', 'ignoring', 'ever', 'tube.', '(', 'anslinger', 'moon', 'properties', 'succumb', 'america,', 'selected', 'mixes', 'liquefy', 'spits', 'gadget', 'gabardine', 'cunt.', 'severing', 'emphasize', 'everything,', 'meals', 'cuneiform', 'odor', 'skit', 'scored', 'brokers', '⊗', 'egg', 'prospect', 'appeared', 'tilting', 'wire', 'domes', 'tourists,', 'around.', 'down.\"', 'extending', \"'tain't\", 'hamburger', 'hypnotic', 'slack', 'members,', 'time:', 'talking', 'cancer.', 'deal?', 'card.', 'actors', 'saints', 'agony.', 'outfit', 'now:', 'advance', 'halves', 'prenatal', 'sixty', 'harsh', \"wasn't\", 'childhood', 'light.', 'reich', 'organism', 'teach', 'doc,', 'rubbed', 'atmosphere', 'si', 'boneless', 'mixer', 'negro', 'medley', 'stench', 'system', 'merchandise.', 'proudest', 'gun', 'lemur', 'twenty,', 'on?', 'gallant', 'eliminate', 'health.', 'movements,', 'passport', 'iridescent', 'craft', 'burst', 'incline.', 'poverty,', 'coast', 'each', 'jelly', 'lives', 'goose', 'delivered', 'years,', 'wall', 'won', 'cultivate', 'form.', 'sentences', 'star', '\"shift', 'nationality', 'lam', 'this:', 'star.', 'continues', 'kotex,', 'suggestion', 'filthy', 'little-boy', 'owner', 's.s.', 'kidney.', 'relieved', 'indian', 'serve', 'senders', 'comparatively', 'prophecy', 'adolescents', 'land.', 'definitive', 'accumulates', 'out!', 'ash', 'abrupt', 'potentials', 'faggot', 'clearer?', 'occasions', 'heap.', 'listening.', 'mud.', 'roof', 'cadillacs', 'cruel', 'cow.', 'six-ounce', 'cousin', 'fact.', '\"still', 'bulletins', 'supervisor.', 'dear', 'card:', 'secrets', 'sucked', 'me,\"', 'stairs,', 'dig,', '59', '\"old', 'buzz', 'telling', 'represented', 'hands', 'head', 'gertie', '88', 'temperature', 'opinion', 'fondness', 'disappear', 'ward', \"patient's\", 'short-timing', 'nearest', 'screwed', 'right.\"', 'cool', 'protect', 'pretty', 'word.', 'governments', 'enjoy', 'druggist', 'twenties', 'feet,', 'possessed', 'heap,', 'swedish', 'fail', 'fuck-ups', \"you've\", 'sun—', 'raining', 'spermy', 'symbiotic', 'aching', 'electrical', 'treatment', 'flailing', 'occupy', 'the', 'colors.', '\"just', 'farts', 'come,', 'comfort.', 'real', 'doors', 'rightist', 'rust.', 'vents', 'instrument', 'paste', 'dangling', 'metabolic', '\"he\\'s', 'disappearing', 'spasms,', '\"quite', 'exquisitries', 'then,', 'away', 'really', 'mess', 'banal', '1920', 'curtain', 'danger', 'imported', 'spare', 'thing.', 'be.', 'bouncing', 'technical', 'special.', 'toilets.', 'descended', 'switzerland', 'halls', 'smart', 'compromise', 'jack?\"', 'ignore', 'point.', 'remote', 'buys', 'natives', 'insects.', 'convinced', 'ambivalent', 'glass', 'receives', 'riots', 'cases', 'wastings', 'pertaining', 'liz', 'averted', 'host.', 'apes,', 'rusty', 'end', 'concealed', 'foreman', 'insanity,', 'soon', 'suckers', 'horrible', '\"when', 'gums.', 'answer.', 'everywhere.', 'customs', 'normalize', 'anticipate', 'darien', 'ahead,', 'choking', 'is?\"', 'poles', 'furniture', 'factor', 'blanket', 'rows', 'consummated', 'dream', 'idiotic', 'idiosyncracies,', 'dogs', 'mirror.', 'jar', 'grains', 'kiss', 'early', 'christ,', 'mold', 'fertilize', 'sands', 'extract', 'opposed', 'ports', 'petty', 'stirs', 'indicated', 'gold', 'lava', 'crash', 'riddled', \"you'd\", 'exception', 'assumed', 'wiped', 'seeped', 'factors', 'bag', 'paid', 'losing', 'dunno', 'contact.', 'carnivorous', 'kept', 'maze', 'eyes', 'leaking', 'cure.', 'runners,', 'harried', 'drunkenly', 'cleaned', 'against', 'd.', 'hostility', 'sails', 'structure,', '30', 'doctors', 'suspension', 'care.', 'push', 'unhook', 'table,', 'constitute', 'mucus', 'painting', 'pocket.', 'prop.', 'hula', 'wraps', 'embrace', 'danced', 'completely', \"dawn's\", '\"tonight', 'look,', 'chairs', 'federal', 'paws', 'hours,', 'barber', 'rarely', 'ng', 'verbal', 'streams', 'wishing', 'stuck', 'patch', 'falls,', 'out,', 'frequency', 'battered', 'combination', 'up,\"', 'relax.', 'survey', 'cope', 'disastrous', 'vapor', 'campus', 'entrails', 'radar', '00', 'winds', 'park.', 'spreads', 'stands', 'leg.', 'least.', 'eight', \"kiki's\", 'afghan', 'plunged', 'tired', 'sickness,', 'conveyed', 'whether', 'lure', 'brought', 'lagoons,', 'practice.', 'smearing', 'grimly', 'cuffs', 'canoes.', 'hover', 'artifacts', 'relationship', 'sodomy', 'president.', 'tip', 'news', 'toothless', 'second', 'sings', 'ejaculation', 'gasped', 'publication', 'carbolic', 'frequency.', 'billy', 'as', 'obtain', 'moroccan', 'hole,', 'peg', 'farmacia', 'sidewalk.', 'kotex', 'mamba', 'ankle,', 'bee', 'several', 'jurisprudence', 'rue', 'scientists', \"o'clock.\", 'folds', 'act', 'secrete', 'recording', 'leer', 'stateroom', 'homo', 'rocket', 'jim', 'baked', 'dollar', 'fading', 'low', 'interzone', 'castigate', 'drawer.', 'sun.', 'grove', 'pelvis', 'impact', 'dormant', 'pulls', 'alterations.', 'altered', 'need', '-all', 'absolute', 'turrets', 'bearers', 'gritty', 'houses.', 'seem', 'hump', 'booths,', 'chassis', 'divided', 'top', 'flats.', 'ear,', 'functions', 'crumb', 'maize', 'song', 'far', 'bleak', 'gooks', 'directed', 'denounced', 'creature', 'visited', 'race', 'turned', 'fart.', 'separated', 'people,', 'hands.', 'tucked', 'haired', 'martin,\"', 'remove', 'notice', 'racing', 'lakes', 'erupt', 'spurts,', 'brujo', 'sang', 'gentlemen', 'doctor', 'floodlights,', 'course.', 'finch', 'guard,', 'definite', 'shoulders.', 'way', 'muscle', 'seems', 'assembled', 'all.\"', 'embedded', 'undercover', 'build', 'so,', 'manic', 'retreat', 'lifelong', 'feed', 'latin', 'arisen', 'psychoanalyst', 'symbol', 'clearly', 'wounded', 'ribs', 'scan', '15', 'seats,', \"dogs'\", 'marvelous', 'ask', 'readily', 'spaniards', 'swinging', 'houses,', 'scars,', 'gambler', 'younger', 'chanting', 'yet', 'photomontage', 'choice', 'immersion', 'theater', 'rage.', 'telescope', 'greater', 'skin', 'vast', '18', 'dancing', 'quality', 'direction', 'soap.', 'visitors', 'jacks', 'telescopes', 'half-moon', 'certainty', 'staunch', 'wears', 'you', '\"then', 'drained', 'injection', 'jet', 'schizophrenia,', '\"dogs\"', 'eats?', 'test', 'pictures.', 'related', 'therapy', 'fighting', 'anything', 'figure', 'refuse', 'second-run', 'traitors', 'stage', 'breathe', 'inhaled', 'inspector', 'creep', 'splits', 'space.', 'belittle', 'glances', 'chain.', 'achieve', 'bubbles', 'control.', 'evidently', 'dry', 'that', 'creates', 'tanks', 'spark', 'sky', 'beside', 'light', 'strip', 'services', '77', \"he's\", 'gasps,', 'ceiling', 'garbage', 'pearls.', 'dance', 'change,', 'flat', 'here', 'elevator', 'tap', 'guided', 'flexing', 'probing', 'blurred', 'starts', 'artistic', 'infected', 'quiets', 'hints', 'algebra', 'sweeping', 'appointment.', 'malay', '(that', \"lookin'\", 'dummy', 'pricks,', 'program', 'patient.', 'accurately', 'violation', 'him', 'oriented', 'players', 'worth', 'adjusted', 'imports', 'marginal', 'poison', 'abruptly', 'arrived', 'mercy', 'honey,\"', 'follow', '(looking', 'hole', 'destroyed.', 'man.', 'who?', 'offer', 'fallen', 'crude', '1920s.', 'lagoon', 'now', 'uranian', 'endurable', 'cured', 'slow.', '\"nothing', 'give?', 'happen.', 'jukebox,', 'move.', 'pushing', 'approval,', 'tenuous', 'purple-red', 'series', 'unable', 'investigation', 'touches', 'is', 'oh', 'aphrodisiac', 'rent.', 'panama.', 'ointment', 'rocked', '\"everything', 'fancy', 'certain', 'drawer', 'walls', 'selection', 'horn', 'experiments', 'desperate', 'itself', 'two', 'phantom', 'squawk', 'broken,', 'centres', 'tract', 'flights', 'eel-like', 'colonic', 'get', 'youth.', 'doze', 'too,', 'yours.', 'tall,', '\"not', 'another.', 'st.', 'satyr', 'exchange', 'course?\"', 'maintaining', 'though', 'problem.', 'sidles', 'figured', 'occupying', 'die', 'evil,', 'selects', 'bill.', 'york,', 'radio:', 'mirrors.', 'focus.', 'that??', 'degree', 'urn.', 'close-ups', 'vote', 'cylinders', 'yourselves', 'within', 'dividing', 'create', 'needles', 'louis', 'bowl,', 'forever', 'sides.', 'living', 'complicated', 'deal?\"', 'paved', '\"gimpy', 'canvas', 'blasts', 'authority,', 'street', 'coin', 'insist', 'down.', 'evening', 'void.', 'sabbah', 'screen', 'homosexuals', 'absolutely', 'exposure', 'service', 'hydraulic', 'yes,', 'strokes', 'supplied', 'sewer', 'administering', 'descent', 'snarled.', 'latest', 'curiously', 'out.', 'brad', 'bolivar', 'precarious', 'arrive', 'rim', 'nuts', 'loses', 'aft', 'master,', 'relative', 'marvie', '36', 'body,', 'together', 'terrific', 'report', 'sells', 'reliable', 'belching', 'eggs', 'saturday', 'printed', 'consummate', '\"those', 'commissioner', 'venomous', 'say.', 'coal', 'wig,', 'uncontrolled', 'fitting', 'cable', 'sheer', 'lust', 'depends', 'lines.\"', 'prefer', 'morphine,', 'jersey', 'bullets', 'bursts', 'good,', 'surgical', 'snarling', 'something,', 'jews', 'complaining', 'resembled', 'jesus', 'cloth,', 'mirrors,', 'code.', 'kimono,\"', 'red,', 'schedule.', 'affinity', 'unite', 'month.', 'care', 'hey,', '\"thought', 'bores', 'record,', 'intersection', 'park', 'games', 'nastiest', 'forth.', 'pinball', 'plop', 'sound.\"', 'listened', 'piney', 'urgency.', 'doll.', 'contest', \"power's\", 'occurring', 'terminal,', 'throat.', 'nova', 'perfume', 'precise', 'catching', 'loathsome', 'innumerable', 'longer', 'mad', 'pushers', 'lizards', 'lousy', 'battles', 'concrete', 'american,', 'wanna', \"god's\", 'kidneys', \"murphy's\", 'jellied', 'shallow', 'b.', '110', 'reader.', 'cuneiforms.', 'seats', 'next', 'bone', 'wander', 'served', 'guards', 'sneering', 'all-out', 'pays', 'hail', 'typhoid', 'sanitary', 'pains', 'bending', 'muy', 'black,', 'flip', 'rip', 'brand', 'entities', 'smoker', 'tables,', '\"mister,', 'lately', 'haw', 'armies', 'slung', 'arrest', 'ring', 'amnesia', 'instructions', 'sammy', 'fat,', '\"already', 'air,', 'waterfall', 'leaving', 'interrogator', 'split', 'consul.', 'business,', 'candles', 'cobblestone', 'machine,', 'gondolas', 'synchronized', \"where's\", 'covers', 'cure,', 'exist', 'isolated', 'engineering', 'dresser,', 'stove', 'i?\"', 'infection', 'facing', 'angle,', 'geraniums', 'disappear.', 'erection,', 'viscera.', 'tars', 'god,', 'trying', 'whiff', 'become', 'explosions', 'loused', 'premises', 'season', 'holed', 'end.', 'moving', 'noose,', 'diseased', 'metastasis', 'body', 'chap', 'sometimes', 'them,', 'wolf', 'air.', 'till', 'numbness', 'issued', 'dozen', 'witnesses', 'pissoirs', 'shuddered', 'sting', 'strictly', 'kid,\"', 'crackling', 'life.', 'ties', 'answers', 'trial', 'permutated', 'off.', 'baboons', 'value', 'flu', 'darkies', 'tear', '\"keep', '\"green', 'pistol', 'complete', 'varying', 'smiling,', 'run,', 'hands,', 'pockets', 'furtive', '\"second', 'beckoned', '-it', 'condition', '?', 'moscow', 'eukodal', 'youths,', 'grave', 'guys', 'smokers,', 'workers,', 'stops', 'meets', 'pupil', 'room,', 'silly', 'beach', 'bargain', 'vine', 'walk,', 'leopard', 'worn', '\"had', 'well', 'equipment', 'rollers', 'more?', 'problem', 'fields', 'wear', 'conference', 'drifting', 'brain.', 'encounter', 'goes', 'mountains', 'local', 'fade', 'rancid', \"master's\", 'glob', 'fags,', 'brandy', 'makes', 'dinosaur', 'unfortunate', 'swallowed', 'shoulders,', 'mosquito', 'blasting', 'private', 'is.', 'travail', 'hath', 'self.', 'sekuin', 'conditions', 'luxury', 'artificial', 'aspects', 'refugees', 'saint', 'hysterical', 'reporting', 'woke', 'journeys', '–the', 'ripe', 'tongue.', 'gentle', 'head.', 'crooning', 'mau', 'rubbish', 'similar', 'earth', 'human', 'gift', 'suns', 'expect', 'slunk', 'camped', 'bodies', 'bullfighter', 'seat', 'sliding', '1962', 'decent', 'graves', 'polished', '86', 'civilian', 'bump', 'gurgling', 'uranus', 'lichen', 'mister?\"', 'penis', 'sidled', 'swan', 'bomb,', 'convulsive', 'effects', 'del', 'twittering', 'old-time', 'cooled', 'eaten', 'spurted', 'inspector,', 'vintage', 'partisan', '\"what\\'s', 'projects', 'seattle', 'june', 'hardly', 'biceps.', 'interest', 'languidly', 'street.', 'wild', '\"want', 'highest', 'rage', 'refers', 'tremors', 'telephone', 'fleet', 'swede', 'welcome', 'u', 'public', 'experiment.', 'instead', 'smells', 'women,', 'reek', 'basic', 'sucker', 'spasms.', 'flexible', 'codeine.', 'shoulders', 'jobs', 'sputter', 'booth', 'quarrel', 'thoughts', 'treatment.', 'forth', 'float', 'fight,', 'camel', 'learn?', 'realized.', 'bars,', '(the', 'response', 'molecule', '\"do', 'motto'}\n"
     ]
    }
   ],
   "source": [
    "print(hoard)"
   ]
  },
  {
   "cell_type": "code",
   "execution_count": 10,
   "id": "08c3ddf8-d853-4264-a24b-ef14b1676073",
   "metadata": {},
   "outputs": [
    {
     "name": "stdout",
     "output_type": "stream",
     "text": [
      "Done\n"
     ]
    }
   ],
   "source": [
    "with open(r'hoard.txt', 'w') as fp:\n",
    "    for item in hoard:\n",
    "        fp.write(\"%s\\n\" % item)\n",
    "    print('Done')"
   ]
  },
  {
   "cell_type": "code",
   "execution_count": 11,
   "id": "6cd34214-2cb8-4160-abb6-3e815304f161",
   "metadata": {},
   "outputs": [],
   "source": [
    "with open(\"hoard.txt\", \"r\") as f:\n",
    "    word_list = [line.strip() for line in f if line.strip()]"
   ]
  },
  {
   "cell_type": "code",
   "execution_count": 12,
   "id": "bd963fa3-bbc7-4741-b3bb-127d12958abd",
   "metadata": {},
   "outputs": [
    {
     "name": "stdout",
     "output_type": "stream",
     "text": [
      "Done\n"
     ]
    }
   ],
   "source": [
    "naked_lunch = lunch.lower()\n",
    "with open(r'naked_lunch.txt', 'w') as fp:\n",
    "    fp.write(naked_lunch)\n",
    "print('Done')"
   ]
  },
  {
   "cell_type": "code",
   "execution_count": 17,
   "id": "8ee505dd-5989-4c1c-a1ba-c921323f4c2f",
   "metadata": {},
   "outputs": [],
   "source": [
    "## Model training time"
   ]
  },
  {
   "cell_type": "code",
   "execution_count": 15,
   "id": "8c76f215-833c-494b-80b6-450de845af9b",
   "metadata": {
    "scrolled": true
   },
   "outputs": [
    {
     "name": "stderr",
     "output_type": "stream",
     "text": [
      "\n",
      "A module that was compiled using NumPy 1.x cannot be run in\n",
      "NumPy 2.0.2 as it may crash. To support both 1.x and 2.x\n",
      "versions of NumPy, modules must be compiled with NumPy 2.0.\n",
      "Some module may need to rebuild instead e.g. with 'pybind11>=2.12'.\n",
      "\n",
      "If you are a user of the module, the easiest solution will be to\n",
      "downgrade to 'numpy<2' or try to upgrade the affected module.\n",
      "We expect that some modules will need time to support NumPy 2.\n",
      "\n",
      "Traceback (most recent call last):  File \"/Volumes/Mac/opt/anaconda3/envs/novabot/lib/python3.12/runpy.py\", line 198, in _run_module_as_main\n",
      "    return _run_code(code, main_globals, None,\n",
      "  File \"/Volumes/Mac/opt/anaconda3/envs/novabot/lib/python3.12/runpy.py\", line 88, in _run_code\n",
      "    exec(code, run_globals)\n",
      "  File \"/Volumes/Mac/opt/anaconda3/envs/novabot/lib/python3.12/site-packages/ipykernel_launcher.py\", line 18, in <module>\n",
      "    app.launch_new_instance()\n",
      "  File \"/Volumes/Mac/opt/anaconda3/envs/novabot/lib/python3.12/site-packages/traitlets/config/application.py\", line 1075, in launch_instance\n",
      "    app.start()\n",
      "  File \"/Volumes/Mac/opt/anaconda3/envs/novabot/lib/python3.12/site-packages/ipykernel/kernelapp.py\", line 739, in start\n",
      "    self.io_loop.start()\n",
      "  File \"/Volumes/Mac/opt/anaconda3/envs/novabot/lib/python3.12/site-packages/tornado/platform/asyncio.py\", line 205, in start\n",
      "    self.asyncio_loop.run_forever()\n",
      "  File \"/Volumes/Mac/opt/anaconda3/envs/novabot/lib/python3.12/asyncio/base_events.py\", line 641, in run_forever\n",
      "    self._run_once()\n",
      "  File \"/Volumes/Mac/opt/anaconda3/envs/novabot/lib/python3.12/asyncio/base_events.py\", line 1986, in _run_once\n",
      "    handle._run()\n",
      "  File \"/Volumes/Mac/opt/anaconda3/envs/novabot/lib/python3.12/asyncio/events.py\", line 88, in _run\n",
      "    self._context.run(self._callback, *self._args)\n",
      "  File \"/Volumes/Mac/opt/anaconda3/envs/novabot/lib/python3.12/site-packages/ipykernel/kernelbase.py\", line 545, in dispatch_queue\n",
      "    await self.process_one()\n",
      "  File \"/Volumes/Mac/opt/anaconda3/envs/novabot/lib/python3.12/site-packages/ipykernel/kernelbase.py\", line 534, in process_one\n",
      "    await dispatch(*args)\n",
      "  File \"/Volumes/Mac/opt/anaconda3/envs/novabot/lib/python3.12/site-packages/ipykernel/kernelbase.py\", line 437, in dispatch_shell\n",
      "    await result\n",
      "  File \"/Volumes/Mac/opt/anaconda3/envs/novabot/lib/python3.12/site-packages/ipykernel/ipkernel.py\", line 362, in execute_request\n",
      "    await super().execute_request(stream, ident, parent)\n",
      "  File \"/Volumes/Mac/opt/anaconda3/envs/novabot/lib/python3.12/site-packages/ipykernel/kernelbase.py\", line 778, in execute_request\n",
      "    reply_content = await reply_content\n",
      "  File \"/Volumes/Mac/opt/anaconda3/envs/novabot/lib/python3.12/site-packages/ipykernel/ipkernel.py\", line 449, in do_execute\n",
      "    res = shell.run_cell(\n",
      "  File \"/Volumes/Mac/opt/anaconda3/envs/novabot/lib/python3.12/site-packages/ipykernel/zmqshell.py\", line 549, in run_cell\n",
      "    return super().run_cell(*args, **kwargs)\n",
      "  File \"/Volumes/Mac/opt/anaconda3/envs/novabot/lib/python3.12/site-packages/IPython/core/interactiveshell.py\", line 3075, in run_cell\n",
      "    result = self._run_cell(\n",
      "  File \"/Volumes/Mac/opt/anaconda3/envs/novabot/lib/python3.12/site-packages/IPython/core/interactiveshell.py\", line 3130, in _run_cell\n",
      "    result = runner(coro)\n",
      "  File \"/Volumes/Mac/opt/anaconda3/envs/novabot/lib/python3.12/site-packages/IPython/core/async_helpers.py\", line 128, in _pseudo_sync_runner\n",
      "    coro.send(None)\n",
      "  File \"/Volumes/Mac/opt/anaconda3/envs/novabot/lib/python3.12/site-packages/IPython/core/interactiveshell.py\", line 3334, in run_cell_async\n",
      "    has_raised = await self.run_ast_nodes(code_ast.body, cell_name,\n",
      "  File \"/Volumes/Mac/opt/anaconda3/envs/novabot/lib/python3.12/site-packages/IPython/core/interactiveshell.py\", line 3517, in run_ast_nodes\n",
      "    if await self.run_code(code, result, async_=asy):\n",
      "  File \"/Volumes/Mac/opt/anaconda3/envs/novabot/lib/python3.12/site-packages/IPython/core/interactiveshell.py\", line 3577, in run_code\n",
      "    exec(code_obj, self.user_global_ns, self.user_ns)\n",
      "  File \"/var/folders/d7/s9v4vr012y797bmw4ryrcfgc0000gn/T/ipykernel_52976/4265195184.py\", line 1, in <module>\n",
      "    import torch\n",
      "  File \"/Volumes/Mac/opt/anaconda3/envs/novabot/lib/python3.12/site-packages/torch/__init__.py\", line 1477, in <module>\n",
      "    from .functional import *  # noqa: F403\n",
      "  File \"/Volumes/Mac/opt/anaconda3/envs/novabot/lib/python3.12/site-packages/torch/functional.py\", line 9, in <module>\n",
      "    import torch.nn.functional as F\n",
      "  File \"/Volumes/Mac/opt/anaconda3/envs/novabot/lib/python3.12/site-packages/torch/nn/__init__.py\", line 1, in <module>\n",
      "    from .modules import *  # noqa: F403\n",
      "  File \"/Volumes/Mac/opt/anaconda3/envs/novabot/lib/python3.12/site-packages/torch/nn/modules/__init__.py\", line 35, in <module>\n",
      "    from .transformer import TransformerEncoder, TransformerDecoder, \\\n",
      "  File \"/Volumes/Mac/opt/anaconda3/envs/novabot/lib/python3.12/site-packages/torch/nn/modules/transformer.py\", line 20, in <module>\n",
      "    device: torch.device = torch.device(torch._C._get_default_device()),  # torch.device('cpu'),\n",
      "/Volumes/Mac/opt/anaconda3/envs/novabot/lib/python3.12/site-packages/torch/nn/modules/transformer.py:20: UserWarning: Failed to initialize NumPy: _ARRAY_API not found (Triggered internally at /Users/runner/work/pytorch/pytorch/pytorch/torch/csrc/utils/tensor_numpy.cpp:84.)\n",
      "  device: torch.device = torch.device(torch._C._get_default_device()),  # torch.device('cpu'),\n"
     ]
    }
   ],
   "source": [
    "import torch"
   ]
  },
  {
   "cell_type": "code",
   "execution_count": 16,
   "id": "6f7f9543-9b63-4de9-aaa2-c95ca080bbe4",
   "metadata": {},
   "outputs": [],
   "source": [
    "from torch.utils.data import Dataset"
   ]
  },
  {
   "cell_type": "code",
   "execution_count": 17,
   "id": "160f0626-803f-4b90-ad8d-2fd2f8a14988",
   "metadata": {
    "scrolled": true
   },
   "outputs": [
    {
     "name": "stderr",
     "output_type": "stream",
     "text": [
      "/Volumes/Mac/opt/anaconda3/envs/novabot/lib/python3.12/site-packages/tqdm/auto.py:21: TqdmWarning: IProgress not found. Please update jupyter and ipywidgets. See https://ipywidgets.readthedocs.io/en/stable/user_install.html\n",
      "  from .autonotebook import tqdm as notebook_tqdm\n"
     ]
    }
   ],
   "source": [
    "from transformers import GPT2LMHeadModel, GPT2Tokenizer, LogitsProcessorList, LogitsProcessor"
   ]
  },
  {
   "cell_type": "code",
   "execution_count": 18,
   "id": "e8fd1e6c-5578-41ee-b275-37dcef698c92",
   "metadata": {
    "scrolled": true
   },
   "outputs": [],
   "source": [
    "tokenizer = GPT2Tokenizer.from_pretrained('gpt2')\n",
    "model = GPT2LMHeadModel.from_pretrained('gpt2', pad_token_id=tokenizer.eos_token_id)"
   ]
  },
  {
   "cell_type": "code",
   "execution_count": 19,
   "id": "81c3599b-c720-4ef3-ba1c-9c809e2275e2",
   "metadata": {},
   "outputs": [],
   "source": [
    "##\n",
    "## TOKENIZING AND TRAINING NAKED LUNCH\n",
    "##"
   ]
  },
  {
   "cell_type": "code",
   "execution_count": 20,
   "id": "0803a317-5d9a-4c1d-9cd9-eff6b0b8d0e3",
   "metadata": {},
   "outputs": [],
   "source": [
    "with open(path + 'lunch.txt', 'r', encoding='utf-8') as file:\n",
    "    text = file.read()\n",
    "    \n",
    "tokenizer.pad_token = tokenizer.eos_token\n",
    "\n",
    "input_ids = tokenizer.encode(text, return_tensors='pt', truncation=True, padding=True)"
   ]
  },
  {
   "cell_type": "code",
   "execution_count": 21,
   "id": "581956bc-9fdc-4d2b-aa09-d747a88a3e33",
   "metadata": {},
   "outputs": [
    {
     "name": "stdout",
     "output_type": "stream",
     "text": [
      "Tokenized text length: 1024\n"
     ]
    }
   ],
   "source": [
    "text = text.replace('\\n', ' ') \n",
    "\n",
    "input_ids = tokenizer.encode(text, return_tensors='pt', truncation=True, padding=True)\n",
    "\n",
    "print(f\"Tokenized text length: {len(input_ids[0])}\")"
   ]
  },
  {
   "cell_type": "code",
   "execution_count": 22,
   "id": "ba896057-6817-4836-9042-c3e6eb3b83dd",
   "metadata": {},
   "outputs": [
    {
     "name": "stdout",
     "output_type": "stream",
     "text": [
      "Total tokens: 1024, Number of samples: 2\n"
     ]
    },
    {
     "ename": "NameError",
     "evalue": "name 'DataLoader' is not defined",
     "output_type": "error",
     "traceback": [
      "\u001b[0;31m---------------------------------------------------------------------------\u001b[0m",
      "\u001b[0;31mNameError\u001b[0m                                 Traceback (most recent call last)",
      "Cell \u001b[0;32mIn[22], line 20\u001b[0m\n\u001b[1;32m     18\u001b[0m block_size \u001b[38;5;241m=\u001b[39m \u001b[38;5;241m512\u001b[39m \n\u001b[1;32m     19\u001b[0m dataset \u001b[38;5;241m=\u001b[39m TextDataset(input_ids, block_size)\n\u001b[0;32m---> 20\u001b[0m dataloader \u001b[38;5;241m=\u001b[39m DataLoader(dataset, batch_size\u001b[38;5;241m=\u001b[39m\u001b[38;5;241m2\u001b[39m, shuffle\u001b[38;5;241m=\u001b[39m\u001b[38;5;28;01mTrue\u001b[39;00m)\n\u001b[1;32m     22\u001b[0m \u001b[38;5;28;01mfor\u001b[39;00m batch \u001b[38;5;129;01min\u001b[39;00m dataloader:\n\u001b[1;32m     23\u001b[0m     \u001b[38;5;28mprint\u001b[39m(batch)\n",
      "\u001b[0;31mNameError\u001b[0m: name 'DataLoader' is not defined"
     ]
    }
   ],
   "source": [
    "class TextDataset(Dataset):\n",
    "    def __init__(self, input_ids, block_size):\n",
    "        self.input_ids = input_ids[0]\n",
    "        self.block_size = block_size\n",
    "        self.num_samples = len(self.input_ids) // self.block_size  \n",
    "        \n",
    "        print(f\"Total tokens: {len(self.input_ids)}, Number of samples: {self.num_samples}\")\n",
    "\n",
    "    def __len__(self):\n",
    "        return self.num_samples\n",
    "\n",
    "    def __getitem__(self, idx):\n",
    "        start_idx = idx * self.block_size\n",
    "        end_idx = start_idx + self.block_size\n",
    "        input_ids_block = self.input_ids[start_idx:end_idx]\n",
    "        return input_ids_block, input_ids_block\n",
    "\n",
    "block_size = 512 \n",
    "dataset = TextDataset(input_ids, block_size)\n",
    "dataloader = DataLoader(dataset, batch_size=2, shuffle=True)\n",
    "\n",
    "for batch in dataloader:\n",
    "    print(batch)"
   ]
  },
  {
   "cell_type": "code",
   "execution_count": 23,
   "id": "9b033ea8-8eb6-44a8-80e2-21f0ccbc3898",
   "metadata": {},
   "outputs": [
    {
     "name": "stdout",
     "output_type": "stream",
     "text": [
      "Epoch 1/32\n"
     ]
    },
    {
     "ename": "NameError",
     "evalue": "name 'dataloader' is not defined",
     "output_type": "error",
     "traceback": [
      "\u001b[0;31m---------------------------------------------------------------------------\u001b[0m",
      "\u001b[0;31mNameError\u001b[0m                                 Traceback (most recent call last)",
      "Cell \u001b[0;32mIn[23], line 18\u001b[0m\n\u001b[1;32m     16\u001b[0m \u001b[38;5;28;01mfor\u001b[39;00m epoch \u001b[38;5;129;01min\u001b[39;00m \u001b[38;5;28mrange\u001b[39m(epochs):\n\u001b[1;32m     17\u001b[0m     \u001b[38;5;28mprint\u001b[39m(\u001b[38;5;124mf\u001b[39m\u001b[38;5;124m\"\u001b[39m\u001b[38;5;124mEpoch \u001b[39m\u001b[38;5;132;01m{\u001b[39;00mepoch\u001b[38;5;241m+\u001b[39m\u001b[38;5;241m1\u001b[39m\u001b[38;5;132;01m}\u001b[39;00m\u001b[38;5;124m/\u001b[39m\u001b[38;5;132;01m{\u001b[39;00mepochs\u001b[38;5;132;01m}\u001b[39;00m\u001b[38;5;124m\"\u001b[39m)\n\u001b[0;32m---> 18\u001b[0m     \u001b[38;5;28;01mfor\u001b[39;00m batch_idx, (input_ids, labels) \u001b[38;5;129;01min\u001b[39;00m \u001b[38;5;28menumerate\u001b[39m(dataloader):\n\u001b[1;32m     19\u001b[0m         optimizer\u001b[38;5;241m.\u001b[39mzero_grad()\n\u001b[1;32m     20\u001b[0m         \u001b[38;5;66;03m# Move tensors to device (e.g., CUDA if available)\u001b[39;00m\n",
      "\u001b[0;31mNameError\u001b[0m: name 'dataloader' is not defined"
     ]
    }
   ],
   "source": [
    "from transformers import GPT2LMHeadModel\n",
    "from torch.optim import AdamW\n",
    "from torch.nn import functional as F\n",
    "\n",
    "# Loading gpt2 with the appropriate pad_token_id\n",
    "model = GPT2LMHeadModel.from_pretrained('gpt2', pad_token_id=tokenizer.eos_token_id)\n",
    "\n",
    "# Setting model to train\n",
    "model.train()\n",
    "\n",
    "# Optimizer\n",
    "optimizer = AdamW(model.parameters(), lr=5e-5)\n",
    "\n",
    "# Training loop\n",
    "epochs = 32\n",
    "for epoch in range(epochs):\n",
    "    print(f\"Epoch {epoch+1}/{epochs}\")\n",
    "    for batch_idx, (input_ids, labels) in enumerate(dataloader):\n",
    "        optimizer.zero_grad()\n",
    "        # Move tensors to device (e.g., CUDA if available)\n",
    "        input_ids = input_ids.to(model.device)\n",
    "        labels = labels.to(model.device)\n",
    "        \n",
    "        # Forward pass\n",
    "        outputs = model(input_ids, labels=labels)\n",
    "        loss = outputs.loss\n",
    "\n",
    "        # Backward pass and optimization\n",
    "        loss.backward()\n",
    "        optimizer.step()\n",
    "\n",
    "        # Print loss\n",
    "        if batch_idx % 50 == 0:\n",
    "            print(f\"Batch {batch_idx} Loss: {loss.item():.4f}\")"
   ]
  },
  {
   "cell_type": "code",
   "execution_count": null,
   "id": "a25c6da0-e517-4116-b7d3-5bccd79b509b",
   "metadata": {},
   "outputs": [],
   "source": [
    "# Saving  model and tokenizer\n",
    "model.save_pretrained('lunch_fine_tuned')\n",
    "tokenizer.save_pretrained('lunch_fine_tuned')"
   ]
  },
  {
   "cell_type": "code",
   "execution_count": null,
   "id": "c9f11888-5842-4e61-a97e-1e84aa7c47b9",
   "metadata": {},
   "outputs": [],
   "source": [
    "##\n",
    "## TOKENIZING AND TRAINING THE WORD HOARD\n",
    "##"
   ]
  },
  {
   "cell_type": "code",
   "execution_count": null,
   "id": "2b64129c-721e-4372-aa6d-5f3124881207",
   "metadata": {},
   "outputs": [],
   "source": [
    "with open('hoard.txt', 'r', encoding='utf-8') as file:\n",
    "    text = file.read()\n",
    "    \n",
    "tokenizer.pad_token = tokenizer.eos_token\n",
    "\n",
    "hoard_text = text.replace('\\n', ' ') \n",
    "\n",
    "hoard_ids = tokenizer.encode(text, return_tensors='pt', truncation=True, padding=True)\n",
    "\n",
    "print(f\"Tokenized text length: {len(hoard_ids[0])}\")"
   ]
  },
  {
   "cell_type": "code",
   "execution_count": null,
   "id": "9ac5d6a9-9cdf-49fb-a741-0ad5e050b4ab",
   "metadata": {},
   "outputs": [],
   "source": [
    "class TextDataset(Dataset):\n",
    "    def __init__(self, hoard_ids, block_size):\n",
    "        self.input_ids = input_ids[0]\n",
    "        self.block_size = block_size\n",
    "        self.num_samples = len(self.input_ids) // self.block_size  \n",
    "        \n",
    "        print(f\"Total tokens: {len(self.input_ids)}, Number of samples: {self.num_samples}\")\n",
    "\n",
    "    def __len__(self):\n",
    "        return self.num_samples\n",
    "\n",
    "    def __getitem__(self, idx):\n",
    "        start_idx = idx * self.block_size\n",
    "        end_idx = start_idx + self.block_size\n",
    "        input_ids_block = self.input_ids[start_idx:end_idx]\n",
    "        return input_ids_block, input_ids_block\n",
    "\n",
    "block_size = 512 \n",
    "dataset = TextDataset(input_ids, block_size)\n",
    "dataloader = DataLoader(dataset, batch_size=2, shuffle=True)\n",
    "\n",
    "for batch in dataloader:\n",
    "    print(batch)"
   ]
  },
  {
   "cell_type": "code",
   "execution_count": null,
   "id": "29372aa5-fd21-4061-b63a-d5e126a56ef9",
   "metadata": {
    "scrolled": true
   },
   "outputs": [],
   "source": [
    "# Loading gpt2 with the appropriate pad_token_id\n",
    "model = GPT2LMHeadModel.from_pretrained('gpt2', pad_token_id=tokenizer.eos_token_id)\n",
    "\n",
    "# Setting model to train\n",
    "model.train()\n",
    "\n",
    "# Optimizer\n",
    "optimizer = AdamW(model.parameters(), lr=5e-5)\n",
    "\n",
    "# Training loop\n",
    "epochs = 32\n",
    "for epoch in range(epochs):\n",
    "    print(f\"Epoch {epoch+1}/{epochs}\")\n",
    "    for batch_idx, (hoard_ids, labels) in enumerate(dataloader):\n",
    "        optimizer.zero_grad()\n",
    "        # Move tensors to device (e.g., CUDA if available)\n",
    "        hoard_ids = hoard_ids.to(model.device)\n",
    "        labels = labels.to(model.device)\n",
    "        \n",
    "        # Forward pass\n",
    "        outputs = model(hoard_ids, labels=labels)\n",
    "        loss = outputs.loss\n",
    "\n",
    "        # Backward pass and optimization\n",
    "        loss.backward()\n",
    "        optimizer.step()\n",
    "\n",
    "        # Print loss\n",
    "        if batch_idx % 50 == 0:\n",
    "            print(f\"Batch {batch_idx} Loss: {loss.item():.4f}\")"
   ]
  },
  {
   "cell_type": "code",
   "execution_count": null,
   "id": "c9e18ecb-1005-49bf-bc8f-272a31a365a2",
   "metadata": {},
   "outputs": [],
   "source": [
    "model.save_pretrained('hoard_fine_tuned')\n",
    "tokenizer.save_pretrained('hoard_fine_tuned')"
   ]
  },
  {
   "cell_type": "code",
   "execution_count": null,
   "id": "aadef18a-1c13-47e0-8de1-470069ff7962",
   "metadata": {},
   "outputs": [],
   "source": [
    "##\n",
    "## OTHER MODEL ON NAKED LUNCH \n",
    "##"
   ]
  },
  {
   "cell_type": "code",
   "execution_count": null,
   "id": "bb1c870f-8b2d-4f4a-b42b-e57df888d014",
   "metadata": {},
   "outputs": [],
   "source": [
    "class TextDataset(Dataset):\n",
    "    def __init__(self, file_path, tokenizer, block_size):\n",
    "        with open(file_path, \"r\", encoding=\"utf-8\") as file:\n",
    "            text = file.read()\n",
    "\n",
    "        # Tokenizing the text\n",
    "        self.examples = tokenizer(\n",
    "            text, \n",
    "            return_tensors=\"pt\", \n",
    "            max_length=block_size, \n",
    "            truncation=True\n",
    "        )[\"input_ids\"]\n",
    "\n",
    "    def __len__(self):\n",
    "        return len(self.examples)\n",
    "\n",
    "    def __getitem__(self, i):\n",
    "        return self.examples[i]\n",
    "\n",
    "file_path = \"naked_lunch.txt\"\n",
    "block_size = 128\n",
    "\n",
    "dataset = TextDataset(file_path, tokenizer, block_size)"
   ]
  },
  {
   "cell_type": "code",
   "execution_count": null,
   "id": "f6325de7-2749-4a20-a8bd-89e0845d67ec",
   "metadata": {},
   "outputs": [],
   "source": [
    "from torch.utils.data import DataLoader\n",
    "\n",
    "batch_size = 64\n",
    "data_loader = DataLoader(dataset, batch_size=batch_size, shuffle=True)"
   ]
  },
  {
   "cell_type": "code",
   "execution_count": null,
   "id": "ce846173-5929-486b-abbd-b43c0c0b07e9",
   "metadata": {
    "scrolled": true
   },
   "outputs": [],
   "source": [
    "from transformers import AdamW\n",
    "from tqdm import tqdm\n",
    "\n",
    "optimizer = AdamW(model.parameters(), lr=5e-5)\n",
    "\n",
    "# Moving model to GPU for memory sake\n",
    "device = torch.device(\"cuda\" if torch.cuda.is_available() else \"cpu\")\n",
    "model = model.to(device)\n",
    "\n",
    "# Training loop\n",
    "epochs = 32\n",
    "model.train()\n",
    "\n",
    "for epoch in range(epochs):\n",
    "    print(f\"Epoch {epoch + 1}\")\n",
    "    loop = tqdm(data_loader, leave=True)\n",
    "    for batch in loop:\n",
    "        batch = batch.to(device)\n",
    "        outputs = model(batch, labels=batch)\n",
    "        loss = outputs.loss\n",
    "        loss.backward()\n",
    "\n",
    "        optimizer.step()\n",
    "        optimizer.zero_grad()\n",
    "\n",
    "        loop.set_description(f\"Epoch {epoch + 1}\")\n",
    "        loop.set_postfix(loss=loss.item())"
   ]
  },
  {
   "cell_type": "code",
   "execution_count": null,
   "id": "d5c6f994-a7c3-4a09-bf95-87192cfe8b1c",
   "metadata": {},
   "outputs": [],
   "source": [
    "model.save_pretrained(\"fine_tuned_gpt2\")\n",
    "tokenizer.save_pretrained(\"fine_tuned_gpt2\")"
   ]
  },
  {
   "cell_type": "code",
   "execution_count": null,
   "id": "569b8658-56fd-44d6-95e3-cf9ff31c43e8",
   "metadata": {},
   "outputs": [],
   "source": [
    "###\n",
    "## OTHER MODEL ON WORD HOARD\n",
    "##"
   ]
  },
  {
   "cell_type": "code",
   "execution_count": null,
   "id": "9d42b3ba-166d-49a7-a44b-3a31fe91b638",
   "metadata": {},
   "outputs": [],
   "source": [
    "class TextDataset(Dataset):\n",
    "    def __init__(self, file_path, tokenizer, block_size):\n",
    "        with open(file_path, \"r\", encoding=\"utf-8\") as file:\n",
    "            text = file.read()\n",
    "\n",
    "        # Tokenizing the text\n",
    "        self.examples = tokenizer(\n",
    "            text, \n",
    "            return_tensors=\"pt\", \n",
    "            max_length=block_size, \n",
    "            truncation=True\n",
    "        )[\"input_ids\"]\n",
    "\n",
    "    def __len__(self):\n",
    "        return len(self.examples)\n",
    "\n",
    "    def __getitem__(self, i):\n",
    "        return self.examples[i]\n",
    "\n",
    "file_path = \"hoard.txt\"\n",
    "block_size = 128\n",
    "\n",
    "dataset = TextDataset(file_path, tokenizer, block_size)"
   ]
  },
  {
   "cell_type": "code",
   "execution_count": null,
   "id": "b514fb80-92fa-41cd-8c85-211a6fe97bd6",
   "metadata": {},
   "outputs": [],
   "source": [
    "batch_size = 64\n",
    "data_loader = DataLoader(dataset, batch_size=batch_size, shuffle=True)"
   ]
  },
  {
   "cell_type": "code",
   "execution_count": null,
   "id": "e79a99ea-0350-4966-b96e-a56d70c56e04",
   "metadata": {
    "scrolled": true
   },
   "outputs": [],
   "source": [
    "optimizer = AdamW(model.parameters(), lr=5e-5)\n",
    "\n",
    "# Moving model to GPU for memory sake\n",
    "device = torch.device(\"cuda\" if torch.cuda.is_available() else \"cpu\")\n",
    "model = model.to(device)\n",
    "\n",
    "# Training loop\n",
    "epochs = 32\n",
    "model.train()\n",
    "\n",
    "for epoch in range(epochs):\n",
    "    print(f\"Epoch {epoch + 1}\")\n",
    "    loop = tqdm(data_loader, leave=True)\n",
    "    for batch in loop:\n",
    "        batch = batch.to(device)\n",
    "        outputs = model(batch, labels=batch)\n",
    "        loss = outputs.loss\n",
    "        loss.backward()\n",
    "\n",
    "        optimizer.step()\n",
    "        optimizer.zero_grad()\n",
    "\n",
    "        loop.set_description(f\"Epoch {epoch + 1}\")\n",
    "        loop.set_postfix(loss=loss.item())"
   ]
  },
  {
   "cell_type": "code",
   "execution_count": null,
   "id": "5bd96a33-2daf-481a-95bd-e05aa0c8968c",
   "metadata": {},
   "outputs": [],
   "source": [
    "model.save_pretrained(\"fine_tuned_hoard\")\n",
    "tokenizer.save_pretrained(\"fine_tuned_hoard\")"
   ]
  },
  {
   "cell_type": "code",
   "execution_count": null,
   "id": "54bcf3af-4603-4eff-9f05-c148380aa8f1",
   "metadata": {},
   "outputs": [],
   "source": [
    "with open(\"hoard.txt\", \"r\") as f:\n",
    "    word_hoard = [line.strip() for line in f if line.strip()]"
   ]
  },
  {
   "cell_type": "code",
   "execution_count": null,
   "id": "09df7b1e-3fee-487b-af11-49917d44c334",
   "metadata": {},
   "outputs": [],
   "source": [
    "from transformers import pipeline\n",
    "from transformers import AutoTokenizer, AutoModelForCausalLM\n",
    "\n",
    "# Loading the fine-tuned model and the tokenizer\n",
    "tokenizer = AutoTokenizer.from_pretrained(\"model\")\n",
    "model = AutoModelForCausalLM.from_pretrained(\"model\")\n",
    "generator = pipeline(\"text-generation\", model=model, tokenizer=tokenizer)\n",
    "\n",
    "# Generating sentences\n",
    "prompt = \"Generate a passage in the style of Naked Lunch, selecting from the following words naturally and cohesively:\" + hoard \n",
    "generated = generator(prompt, max_length=90, num_return_sequences=1, truncation=True)\n",
    "print(f\"Generated: {generated[0]['generated_text']}\\n\")"
   ]
  },
  {
   "cell_type": "code",
   "execution_count": null,
   "id": "e4cba0a3-100b-48ee-9a0b-fbb3b3e4bcdf",
   "metadata": {},
   "outputs": [],
   "source": []
  }
 ],
 "metadata": {
  "kernelspec": {
   "display_name": "Python 3 (ipykernel)",
   "language": "python",
   "name": "python3"
  },
  "language_info": {
   "codemirror_mode": {
    "name": "ipython",
    "version": 3
   },
   "file_extension": ".py",
   "mimetype": "text/x-python",
   "name": "python",
   "nbconvert_exporter": "python",
   "pygments_lexer": "ipython3",
   "version": "3.12.7"
  }
 },
 "nbformat": 4,
 "nbformat_minor": 5
}
