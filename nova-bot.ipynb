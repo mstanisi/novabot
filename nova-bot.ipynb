{
 "cells": [
  {
   "cell_type": "code",
   "execution_count": 20,
   "id": "b663ca0a-8ae8-4738-8a4c-53685fe075d1",
   "metadata": {
    "scrolled": true
   },
   "outputs": [
    {
     "name": "stdout",
     "output_type": "stream",
     "text": [
      "Requirement already satisfied: numpy in /Volumes/Mac/opt/anaconda3/envs/novabot/lib/python3.12/site-packages (2.0.2)\n",
      "Requirement already satisfied: datasets in /Volumes/Mac/opt/anaconda3/envs/novabot/lib/python3.12/site-packages (3.2.0)\n",
      "Requirement already satisfied: filelock in /Volumes/Mac/opt/anaconda3/envs/novabot/lib/python3.12/site-packages (from datasets) (3.16.1)\n",
      "Requirement already satisfied: pyarrow>=15.0.0 in /Volumes/Mac/opt/anaconda3/envs/novabot/lib/python3.12/site-packages (from datasets) (18.1.0)\n",
      "Requirement already satisfied: dill<0.3.9,>=0.3.0 in /Volumes/Mac/opt/anaconda3/envs/novabot/lib/python3.12/site-packages (from datasets) (0.3.8)\n",
      "Requirement already satisfied: pandas in /Volumes/Mac/opt/anaconda3/envs/novabot/lib/python3.12/site-packages (from datasets) (2.2.3)\n",
      "Requirement already satisfied: requests>=2.32.2 in /Volumes/Mac/opt/anaconda3/envs/novabot/lib/python3.12/site-packages (from datasets) (2.32.3)\n",
      "Requirement already satisfied: tqdm>=4.66.3 in /Volumes/Mac/opt/anaconda3/envs/novabot/lib/python3.12/site-packages (from datasets) (4.67.1)\n",
      "Requirement already satisfied: xxhash in /Volumes/Mac/opt/anaconda3/envs/novabot/lib/python3.12/site-packages (from datasets) (3.5.0)\n",
      "Requirement already satisfied: multiprocess<0.70.17 in /Volumes/Mac/opt/anaconda3/envs/novabot/lib/python3.12/site-packages (from datasets) (0.70.16)\n",
      "Requirement already satisfied: fsspec<=2024.9.0,>=2023.1.0 in /Volumes/Mac/opt/anaconda3/envs/novabot/lib/python3.12/site-packages (from fsspec[http]<=2024.9.0,>=2023.1.0->datasets) (2024.9.0)\n",
      "Requirement already satisfied: aiohttp in /Volumes/Mac/opt/anaconda3/envs/novabot/lib/python3.12/site-packages (from datasets) (3.11.10)\n",
      "Requirement already satisfied: huggingface-hub>=0.23.0 in /Volumes/Mac/opt/anaconda3/envs/novabot/lib/python3.12/site-packages (from datasets) (0.26.3)\n",
      "Requirement already satisfied: packaging in /Volumes/Mac/opt/anaconda3/envs/novabot/lib/python3.12/site-packages (from datasets) (24.1)\n",
      "Requirement already satisfied: pyyaml>=5.1 in /Volumes/Mac/opt/anaconda3/envs/novabot/lib/python3.12/site-packages (from datasets) (6.0.2)\n",
      "Requirement already satisfied: aiohappyeyeballs>=2.3.0 in /Volumes/Mac/opt/anaconda3/envs/novabot/lib/python3.12/site-packages (from aiohttp->datasets) (2.4.4)\n",
      "Requirement already satisfied: aiosignal>=1.1.2 in /Volumes/Mac/opt/anaconda3/envs/novabot/lib/python3.12/site-packages (from aiohttp->datasets) (1.3.1)\n",
      "Requirement already satisfied: attrs>=17.3.0 in /Volumes/Mac/opt/anaconda3/envs/novabot/lib/python3.12/site-packages (from aiohttp->datasets) (24.2.0)\n",
      "Requirement already satisfied: frozenlist>=1.1.1 in /Volumes/Mac/opt/anaconda3/envs/novabot/lib/python3.12/site-packages (from aiohttp->datasets) (1.5.0)\n",
      "Requirement already satisfied: multidict<7.0,>=4.5 in /Volumes/Mac/opt/anaconda3/envs/novabot/lib/python3.12/site-packages (from aiohttp->datasets) (6.1.0)\n",
      "Requirement already satisfied: propcache>=0.2.0 in /Volumes/Mac/opt/anaconda3/envs/novabot/lib/python3.12/site-packages (from aiohttp->datasets) (0.2.1)\n",
      "Requirement already satisfied: yarl<2.0,>=1.17.0 in /Volumes/Mac/opt/anaconda3/envs/novabot/lib/python3.12/site-packages (from aiohttp->datasets) (1.18.3)\n",
      "Requirement already satisfied: typing-extensions>=3.7.4.3 in /Volumes/Mac/opt/anaconda3/envs/novabot/lib/python3.12/site-packages (from huggingface-hub>=0.23.0->datasets) (4.12.2)\n",
      "Requirement already satisfied: charset-normalizer<4,>=2 in /Volumes/Mac/opt/anaconda3/envs/novabot/lib/python3.12/site-packages (from requests>=2.32.2->datasets) (3.3.2)\n",
      "Requirement already satisfied: idna<4,>=2.5 in /Volumes/Mac/opt/anaconda3/envs/novabot/lib/python3.12/site-packages (from requests>=2.32.2->datasets) (3.7)\n",
      "Requirement already satisfied: urllib3<3,>=1.21.1 in /Volumes/Mac/opt/anaconda3/envs/novabot/lib/python3.12/site-packages (from requests>=2.32.2->datasets) (2.2.3)\n",
      "Requirement already satisfied: certifi>=2017.4.17 in /Volumes/Mac/opt/anaconda3/envs/novabot/lib/python3.12/site-packages (from requests>=2.32.2->datasets) (2024.8.30)\n",
      "Requirement already satisfied: python-dateutil>=2.8.2 in /Volumes/Mac/opt/anaconda3/envs/novabot/lib/python3.12/site-packages (from pandas->datasets) (2.9.0.post0)\n",
      "Requirement already satisfied: pytz>=2020.1 in /Volumes/Mac/opt/anaconda3/envs/novabot/lib/python3.12/site-packages (from pandas->datasets) (2024.1)\n",
      "Requirement already satisfied: tzdata>=2022.7 in /Volumes/Mac/opt/anaconda3/envs/novabot/lib/python3.12/site-packages (from pandas->datasets) (2024.2)\n",
      "Requirement already satisfied: six>=1.5 in /Volumes/Mac/opt/anaconda3/envs/novabot/lib/python3.12/site-packages (from python-dateutil>=2.8.2->pandas->datasets) (1.16.0)\n",
      "Note: you may need to restart the kernel to use updated packages.\n"
     ]
    }
   ],
   "source": [
    "pip install numpy datasets"
   ]
  },
  {
   "cell_type": "code",
   "execution_count": 25,
   "id": "4bc0b84e-92d7-4e1e-844a-febe337af2bb",
   "metadata": {},
   "outputs": [],
   "source": [
    "path = \"/Users/markos98/novabot/data/\""
   ]
  },
  {
   "cell_type": "code",
   "execution_count": 28,
   "id": "cadb278e-4fe7-4308-be93-20955344dbbb",
   "metadata": {},
   "outputs": [
    {
     "name": "stdout",
     "output_type": "stream",
     "text": [
      "minutes to offer you gotta see you can of his hands saliva drips from electrodes up strip off him it doctor went on the more heroin and screams i reach the old bitch in a grey face burned down the floor making its basic american girls he says there in\n"
     ]
    }
   ],
   "source": [
    "from collections import defaultdict\n",
    "import random\n",
    "import re\n",
    "\n",
    "# Load vocabulary\n",
    "valid_words = set(line.strip().lower() for line in open(path + \"hoard.txt\"))\n",
    "\n",
    "# Build transitions from Naked Lunch\n",
    "transitions = defaultdict(list)\n",
    "with open(path + \"naked_lunch.txt\", \"r\") as f:\n",
    "    text = f.read().lower()\n",
    "    words = re.findall(r\"\\w+\", text)\n",
    "    for i in range(len(words) - 1):\n",
    "        if words[i] in valid_words and words[i+1] in valid_words:\n",
    "            transitions[words[i]].append(words[i+1])\n",
    "        \n",
    "\n",
    "# Generate text\n",
    "def generate_text(start_word, length=20):\n",
    "    current_word = start_word.lower()\n",
    "    output = [current_word]\n",
    "    for _ in range(length - 1):\n",
    "        next_words = transitions.get(current_word, [])\n",
    "        if not next_words:\n",
    "            next_words = list(valid_words)\n",
    "        current_word = random.choice(next_words)\n",
    "        output.append(current_word)\n",
    "    return \" \".join(output)\n",
    "\n",
    "print(generate_text(\"Minutes\", length=50))"
   ]
  },
  {
   "cell_type": "code",
   "execution_count": 29,
   "id": "c77f91da-02ac-475b-be21-9ab31117ca2c",
   "metadata": {},
   "outputs": [
    {
     "name": "stdout",
     "output_type": "stream",
     "text": [
      "multiple personalities is this is\n",
      "juan the rotting river a\n",
      "board the time so fag\n"
     ]
    }
   ],
   "source": [
    "fragments = [generate_text(random.choice(list(valid_words)), 5) for _ in range(3)]\n",
    "print(\"\\n\".join(fragments))"
   ]
  },
  {
   "cell_type": "code",
   "execution_count": null,
   "id": "e4e8d7e0-750d-45e3-aaa9-d4f40888a9a0",
   "metadata": {},
   "outputs": [],
   "source": []
  }
 ],
 "metadata": {
  "kernelspec": {
   "display_name": "Python 3 (ipykernel)",
   "language": "python",
   "name": "python3"
  },
  "language_info": {
   "codemirror_mode": {
    "name": "ipython",
    "version": 3
   },
   "file_extension": ".py",
   "mimetype": "text/x-python",
   "name": "python",
   "nbconvert_exporter": "python",
   "pygments_lexer": "ipython3",
   "version": "3.12.7"
  }
 },
 "nbformat": 4,
 "nbformat_minor": 5
}
